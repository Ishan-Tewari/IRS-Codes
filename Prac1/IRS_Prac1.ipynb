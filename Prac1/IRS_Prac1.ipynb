{
  "nbformat": 4,
  "nbformat_minor": 0,
  "metadata": {
    "colab": {
      "name": "IRS Prac1.ipynb",
      "provenance": []
    },
    "kernelspec": {
      "name": "python3",
      "display_name": "Python 3"
    }
  },
  "cells": [
    {
      "cell_type": "markdown",
      "metadata": {
        "id": "_SceKd4x6zRs"
      },
      "source": [
        "# Practical - 1: Explore various python libraries and perform word count"
      ]
    },
    {
      "cell_type": "markdown",
      "metadata": {
        "id": "0kQX2Oi89OM-"
      },
      "source": [
        "**Importing necessary libraries**"
      ]
    },
    {
      "cell_type": "code",
      "metadata": {
        "id": "yQK1oaS69N_3"
      },
      "source": [
        "import nltk\n",
        "import matplotlib.pyplot as plt"
      ],
      "execution_count": 54,
      "outputs": []
    },
    {
      "cell_type": "markdown",
      "metadata": {
        "id": "QoRLOeaoAXrO"
      },
      "source": [
        "## Word Count"
      ]
    },
    {
      "cell_type": "markdown",
      "metadata": {
        "id": "F7O1vSCn7A18"
      },
      "source": [
        "**Performing Word Count from scratch**"
      ]
    },
    {
      "cell_type": "code",
      "metadata": {
        "id": "VFIvH5M86jUe"
      },
      "source": [
        "text = \"What are you doing? What is your name? My name is XYZ.\""
      ],
      "execution_count": 55,
      "outputs": []
    },
    {
      "cell_type": "code",
      "metadata": {
        "colab": {
          "base_uri": "https://localhost:8080/"
        },
        "id": "nOlKJHX06x_7",
        "outputId": "a9b1366e-9066-4db9-86fa-c49025671e54"
      },
      "source": [
        "# removing punctuations\n",
        "import string\n",
        "punc = string.punctuation\n",
        "for c in text:\n",
        "  if c in punc:\n",
        "    text = text.replace(c,\"\")\n",
        "\n",
        "words = text.split()\n",
        "words[0:10]"
      ],
      "execution_count": 56,
      "outputs": [
        {
          "output_type": "execute_result",
          "data": {
            "text/plain": [
              "['What', 'are', 'you', 'doing', 'What', 'is', 'your', 'name', 'My', 'name']"
            ]
          },
          "metadata": {
            "tags": []
          },
          "execution_count": 56
        }
      ]
    },
    {
      "cell_type": "code",
      "metadata": {
        "colab": {
          "base_uri": "https://localhost:8080/"
        },
        "id": "vOe4fAUe8QCG",
        "outputId": "90826523-46cb-46b3-e211-8b2be8d0d6ab"
      },
      "source": [
        "frequency = []\n",
        "for word in words:\n",
        "  frequency.append(words.count(word))\n",
        "\n",
        "frequency"
      ],
      "execution_count": 57,
      "outputs": [
        {
          "output_type": "execute_result",
          "data": {
            "text/plain": [
              "[2, 1, 1, 1, 2, 2, 1, 2, 1, 2, 2, 1]"
            ]
          },
          "metadata": {
            "tags": []
          },
          "execution_count": 57
        }
      ]
    },
    {
      "cell_type": "code",
      "metadata": {
        "colab": {
          "base_uri": "https://localhost:8080/"
        },
        "id": "0IRTcMrJ8qK7",
        "outputId": "7ce86991-4cfe-4760-dff1-04926c236642"
      },
      "source": [
        "pairs = zip(words,frequency)\n",
        "pairs = list(set(list(pairs)))\n",
        "freq_dist = dict(pairs)\n",
        "freq_dist"
      ],
      "execution_count": 58,
      "outputs": [
        {
          "output_type": "execute_result",
          "data": {
            "text/plain": [
              "{'My': 1,\n",
              " 'What': 2,\n",
              " 'XYZ': 1,\n",
              " 'are': 1,\n",
              " 'doing': 1,\n",
              " 'is': 2,\n",
              " 'name': 2,\n",
              " 'you': 1,\n",
              " 'your': 1}"
            ]
          },
          "metadata": {
            "tags": []
          },
          "execution_count": 58
        }
      ]
    },
    {
      "cell_type": "markdown",
      "metadata": {
        "id": "f6Od6Ldg9JmO"
      },
      "source": [
        "**Performing word count using NLTK**"
      ]
    },
    {
      "cell_type": "code",
      "metadata": {
        "colab": {
          "base_uri": "https://localhost:8080/"
        },
        "id": "gJgOC2JLCXZF",
        "outputId": "18e6b472-8e11-4d96-e3b8-2191fe000909"
      },
      "source": [
        "nltk.download('punkt')"
      ],
      "execution_count": 59,
      "outputs": [
        {
          "output_type": "stream",
          "text": [
            "[nltk_data] Downloading package punkt to /root/nltk_data...\n",
            "[nltk_data]   Package punkt is already up-to-date!\n"
          ],
          "name": "stdout"
        },
        {
          "output_type": "execute_result",
          "data": {
            "text/plain": [
              "True"
            ]
          },
          "metadata": {
            "tags": []
          },
          "execution_count": 59
        }
      ]
    },
    {
      "cell_type": "code",
      "metadata": {
        "id": "-otlkiNBJa8T"
      },
      "source": [
        "text = \"What are you doing? What is your name? My name is XYZ.\""
      ],
      "execution_count": 61,
      "outputs": []
    },
    {
      "cell_type": "code",
      "metadata": {
        "colab": {
          "base_uri": "https://localhost:8080/"
        },
        "id": "lpuWtEm49BWr",
        "outputId": "87fb0b87-cfce-48c6-ed86-ebb05988480f"
      },
      "source": [
        "words = nltk.word_tokenize(text)\n",
        "temp = []\n",
        "for word in words:\n",
        "  if word.isalpha():\n",
        "    temp.append(word)\n",
        "\n",
        "words = temp\n",
        "words"
      ],
      "execution_count": 64,
      "outputs": [
        {
          "output_type": "execute_result",
          "data": {
            "text/plain": [
              "['What',\n",
              " 'are',\n",
              " 'you',\n",
              " 'doing',\n",
              " 'What',\n",
              " 'is',\n",
              " 'your',\n",
              " 'name',\n",
              " 'My',\n",
              " 'name',\n",
              " 'is',\n",
              " 'XYZ']"
            ]
          },
          "metadata": {
            "tags": []
          },
          "execution_count": 64
        }
      ]
    },
    {
      "cell_type": "code",
      "metadata": {
        "colab": {
          "base_uri": "https://localhost:8080/"
        },
        "id": "vvf7-Z3MKQz-",
        "outputId": "2f104ed4-b2dd-499d-8d4e-0b651201fa8c"
      },
      "source": [
        "freq_dist_nltk = nltk.FreqDist(words)\n",
        "freq_dist_nltk"
      ],
      "execution_count": 65,
      "outputs": [
        {
          "output_type": "execute_result",
          "data": {
            "text/plain": [
              "FreqDist({'My': 1,\n",
              "          'What': 2,\n",
              "          'XYZ': 1,\n",
              "          'are': 1,\n",
              "          'doing': 1,\n",
              "          'is': 2,\n",
              "          'name': 2,\n",
              "          'you': 1,\n",
              "          'your': 1})"
            ]
          },
          "metadata": {
            "tags": []
          },
          "execution_count": 65
        }
      ]
    },
    {
      "cell_type": "code",
      "metadata": {
        "colab": {
          "base_uri": "https://localhost:8080/",
          "height": 298
        },
        "id": "woj9rMu8CtwS",
        "outputId": "2915f2a1-79cc-429d-985c-0d4833bf4df9"
      },
      "source": [
        "freq_dist_nltk.plot()"
      ],
      "execution_count": 66,
      "outputs": [
        {
          "output_type": "display_data",
          "data": {
            "image/png": "[encoded data removed]",
            "text/plain": [
              "<Figure size 432x288 with 1 Axes>"
            ]
          },
          "metadata": {
            "tags": [],
            "needs_background": "light"
          }
        }
      ]
    }
  ]
}