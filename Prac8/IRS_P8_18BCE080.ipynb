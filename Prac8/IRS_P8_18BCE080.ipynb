{
  "nbformat": 4,
  "nbformat_minor": 0,
  "metadata": {
    "kernelspec": {
      "display_name": "Python 3",
      "language": "python",
      "name": "python3"
    },
    "language_info": {
      "codemirror_mode": {
        "name": "ipython",
        "version": 3
      },
      "file_extension": ".py",
      "mimetype": "text/x-python",
      "name": "python",
      "nbconvert_exporter": "python",
      "pygments_lexer": "ipython3",
      "version": "3.7.4"
    },
    "colab": {
      "name": "IRS_P8_18BCE080.ipynb",
      "provenance": [],
      "toc_visible": true
    }
  },
  "cells": [
    {
      "cell_type": "code",
      "metadata": {
        "id": "LGKk-xooQbF2"
      },
      "source": [
        "import pandas as pd\n",
        "import string"
      ],
      "execution_count": 1,
      "outputs": []
    },
    {
      "cell_type": "markdown",
      "metadata": {
        "id": "ZDFaECFOQbF9"
      },
      "source": [
        "# Borda Method"
      ]
    },
    {
      "cell_type": "markdown",
      "metadata": {
        "id": "ZlWgqMfCVQPB"
      },
      "source": [
        "### Reading Data Matrix"
      ]
    },
    {
      "cell_type": "code",
      "metadata": {
        "colab": {
          "base_uri": "https://localhost:8080/",
          "height": 190
        },
        "id": "88C0eL8lQbF-",
        "outputId": "9145a9fc-408f-408b-9b2d-db0c02594f3a"
      },
      "source": [
        "d = pd.read_csv('lab8.csv', header=0)\n",
        "print(\"Ranking Matrix is:\")\n",
        "d"
      ],
      "execution_count": 2,
      "outputs": [
        {
          "output_type": "stream",
          "text": [
            "Ranking Matrix is:\n"
          ],
          "name": "stdout"
        },
        {
          "output_type": "execute_result",
          "data": {
            "text/html": [
              "<div>\n",
              "<style scoped>\n",
              "    .dataframe tbody tr th:only-of-type {\n",
              "        vertical-align: middle;\n",
              "    }\n",
              "\n",
              "    .dataframe tbody tr th {\n",
              "        vertical-align: top;\n",
              "    }\n",
              "\n",
              "    .dataframe thead th {\n",
              "        text-align: right;\n",
              "    }\n",
              "</style>\n",
              "<table border=\"1\" class=\"dataframe\">\n",
              "  <thead>\n",
              "    <tr style=\"text-align: right;\">\n",
              "      <th></th>\n",
              "      <th>10</th>\n",
              "      <th>8</th>\n",
              "      <th>6</th>\n",
              "      <th>4</th>\n",
              "      <th>2</th>\n",
              "    </tr>\n",
              "  </thead>\n",
              "  <tbody>\n",
              "    <tr>\n",
              "      <th>0</th>\n",
              "      <td>A</td>\n",
              "      <td>C</td>\n",
              "      <td>A</td>\n",
              "      <td>B</td>\n",
              "      <td>C</td>\n",
              "    </tr>\n",
              "    <tr>\n",
              "      <th>1</th>\n",
              "      <td>B</td>\n",
              "      <td>B</td>\n",
              "      <td>C</td>\n",
              "      <td>D</td>\n",
              "      <td>B</td>\n",
              "    </tr>\n",
              "    <tr>\n",
              "      <th>2</th>\n",
              "      <td>C</td>\n",
              "      <td>A</td>\n",
              "      <td>D</td>\n",
              "      <td>A</td>\n",
              "      <td>D</td>\n",
              "    </tr>\n",
              "    <tr>\n",
              "      <th>3</th>\n",
              "      <td>D</td>\n",
              "      <td>D</td>\n",
              "      <td>B</td>\n",
              "      <td>C</td>\n",
              "      <td>A</td>\n",
              "    </tr>\n",
              "  </tbody>\n",
              "</table>\n",
              "</div>"
            ],
            "text/plain": [
              "  10  8  6  4  2\n",
              "0  A  C  A  B  C\n",
              "1  B  B  C  D  B\n",
              "2  C  A  D  A  D\n",
              "3  D  D  B  C  A"
            ]
          },
          "metadata": {
            "tags": []
          },
          "execution_count": 2
        }
      ]
    },
    {
      "cell_type": "markdown",
      "metadata": {
        "id": "g39QGBFHVUp8"
      },
      "source": [
        "### Getting the number of candidates"
      ]
    },
    {
      "cell_type": "code",
      "metadata": {
        "colab": {
          "base_uri": "https://localhost:8080/",
          "height": 35
        },
        "id": "0R026ZOYQpUD",
        "outputId": "564395e4-a1c2-4368-eff2-c949b80b6e7b"
      },
      "source": [
        "num_of_candidates = len(d)\n",
        "candidate_list = string.ascii_uppercase\n",
        "candidate_list = candidate_list[:num_of_candidates]\n",
        "candidate_list"
      ],
      "execution_count": 3,
      "outputs": [
        {
          "output_type": "execute_result",
          "data": {
            "application/vnd.google.colaboratory.intrinsic+json": {
              "type": "string"
            },
            "text/plain": [
              "'ABCD'"
            ]
          },
          "metadata": {
            "tags": []
          },
          "execution_count": 3
        }
      ]
    },
    {
      "cell_type": "markdown",
      "metadata": {
        "id": "jMi9p9ybVaXd"
      },
      "source": [
        "### Initializing vote count"
      ]
    },
    {
      "cell_type": "code",
      "metadata": {
        "colab": {
          "base_uri": "https://localhost:8080/"
        },
        "id": "crbmR51qTrnZ",
        "outputId": "fef33886-9ac1-4396-ab18-ab7582db4574"
      },
      "source": [
        "vote_count = {}\n",
        "for candidate in candidate_list:\n",
        "    vote_count[candidate] = 0\n",
        "vote_count"
      ],
      "execution_count": 4,
      "outputs": [
        {
          "output_type": "execute_result",
          "data": {
            "text/plain": [
              "{'A': 0, 'B': 0, 'C': 0, 'D': 0}"
            ]
          },
          "metadata": {
            "tags": []
          },
          "execution_count": 4
        }
      ]
    },
    {
      "cell_type": "markdown",
      "metadata": {
        "id": "l46ZFj7WVdbm"
      },
      "source": [
        "### Getting the total using Borda Technique"
      ]
    },
    {
      "cell_type": "code",
      "metadata": {
        "colab": {
          "base_uri": "https://localhost:8080/"
        },
        "id": "pk9o5MfBT6Xq",
        "outputId": "49c8bdfa-ed15-49bb-9d99-a4d2101190f8"
      },
      "source": [
        "for j in d.columns:\n",
        "    for i in range(num_of_candidates):\n",
        "        vote_count[d[j].iloc[i]] += ((num_of_candidates - i) * int(j))\n",
        "sorted_vals = sorted(vote_count.items(), key=lambda x: -x[1])\n",
        "sorted_vals"
      ],
      "execution_count": 5,
      "outputs": [
        {
          "output_type": "execute_result",
          "data": {
            "text/plain": [
              "[('A', 90), ('B', 82), ('C', 82), ('D', 46)]"
            ]
          },
          "metadata": {
            "tags": []
          },
          "execution_count": 5
        }
      ]
    },
    {
      "cell_type": "markdown",
      "metadata": {
        "id": "OTckjls_Vj1-"
      },
      "source": [
        "### Sorting the value according to the total"
      ]
    },
    {
      "cell_type": "code",
      "metadata": {
        "colab": {
          "base_uri": "https://localhost:8080/"
        },
        "id": "-6-jaYltULo6",
        "outputId": "2335e945-097e-433f-8506-7e9d95a3e302"
      },
      "source": [
        "sorted_values = []\n",
        "for a in sorted_vals:\n",
        "    sorted_values.append(a[0])\n",
        "sorted_values"
      ],
      "execution_count": 6,
      "outputs": [
        {
          "output_type": "execute_result",
          "data": {
            "text/plain": [
              "['A', 'B', 'C', 'D']"
            ]
          },
          "metadata": {
            "tags": []
          },
          "execution_count": 6
        }
      ]
    },
    {
      "cell_type": "markdown",
      "metadata": {
        "id": "ONoXA0p6VnLf"
      },
      "source": [
        "### Printing the result"
      ]
    },
    {
      "cell_type": "code",
      "metadata": {
        "colab": {
          "base_uri": "https://localhost:8080/"
        },
        "id": "f4eUhxA3VGbY",
        "outputId": "d362178a-6337-407f-9e29-6b55838d93e8"
      },
      "source": [
        "del sorted_vals\n",
        "del candidate_list\n",
        "del num_of_candidates\n",
        "del d\n",
        "\n",
        "winner = sorted_values[0]\n",
        "\n",
        "print(\"The Count of Votes are:\")\n",
        "print(vote_count)\n",
        "print()\n",
        "print()\n",
        "print(\"The Sorted Values are:\")\n",
        "print(sorted_values)\n",
        "print()\n",
        "print()\n",
        "print(\"The winner is:\")\n",
        "print(winner)"
      ],
      "execution_count": 7,
      "outputs": [
        {
          "output_type": "stream",
          "text": [
            "The Count of Votes are:\n",
            "{'A': 90, 'B': 82, 'C': 82, 'D': 46}\n",
            "\n",
            "\n",
            "The Sorted Values are:\n",
            "['A', 'B', 'C', 'D']\n",
            "\n",
            "\n",
            "The winner is:\n",
            "A\n"
          ],
          "name": "stdout"
        }
      ]
    },
    {
      "cell_type": "markdown",
      "metadata": {
        "id": "Wcd_DoTqQbF_"
      },
      "source": [
        "# Reciprocal Method"
      ]
    },
    {
      "cell_type": "code",
      "metadata": {
        "colab": {
          "base_uri": "https://localhost:8080/"
        },
        "id": "Vp-WVOxgQbGA",
        "outputId": "de34e79c-54c4-4823-f5a2-7e88dc3bc627"
      },
      "source": [
        "d = pd.read_csv('lab8.csv', header=0)\n",
        "print(\"Ranking Matrix is:\")\n",
        "print(d)\n",
        "print()\n",
        "print()\n",
        "num_of_candidates = len(d)\n",
        "candidate_list = string.ascii_uppercase\n",
        "candidate_list = candidate_list[:num_of_candidates]\n",
        "candidate_score = {}\n",
        "for candidate in candidate_list:\n",
        "    candidate_score[candidate] = 0\n",
        "for j in d.columns:\n",
        "    for i in range(num_of_candidates):\n",
        "        candidate_score[d[j].iloc[i]] += (1 / (i + 1))\n",
        "sorted_vals = sorted(candidate_score.items(), key=lambda x: -x[1])\n",
        "sorted_values = []\n",
        "for a in sorted_vals:\n",
        "    sorted_values.append(a[0])\n",
        "\n",
        "del sorted_vals\n",
        "del candidate_list\n",
        "del num_of_candidates\n",
        "del d\n",
        "\n",
        "winner = sorted_values[0]\n",
        "\n",
        "print(\"The Count of Votes are:\")\n",
        "print(candidate_score)\n",
        "print()\n",
        "print()\n",
        "print(\"The Sorted Values are:\")\n",
        "print(sorted_values)\n",
        "print()\n",
        "print()\n",
        "print(\"The winner is:\")\n",
        "print(winner)"
      ],
      "execution_count": 8,
      "outputs": [
        {
          "output_type": "stream",
          "text": [
            "Ranking Matrix is:\n",
            "  10  8  6  4  2\n",
            "0  A  C  A  B  C\n",
            "1  B  B  C  D  B\n",
            "2  C  A  D  A  D\n",
            "3  D  D  B  C  A\n",
            "\n",
            "\n",
            "The Count of Votes are:\n",
            "{'A': 2.9166666666666665, 'B': 2.75, 'C': 3.083333333333333, 'D': 1.6666666666666665}\n",
            "\n",
            "\n",
            "The Sorted Values are:\n",
            "['C', 'A', 'B', 'D']\n",
            "\n",
            "\n",
            "The winner is:\n",
            "C\n"
          ],
          "name": "stdout"
        }
      ]
    },
    {
      "cell_type": "markdown",
      "metadata": {
        "id": "fLcI4Lo1QbGA"
      },
      "source": [
        "# Condorcet Method "
      ]
    },
    {
      "cell_type": "code",
      "metadata": {
        "colab": {
          "base_uri": "https://localhost:8080/"
        },
        "id": "K4py7aDWQbGB",
        "outputId": "9f95cdf1-f787-4a97-91dd-ecd31b8bbe5b"
      },
      "source": [
        "d = pd.read_csv('lab8.csv', header=0)\n",
        "print(\"Ranking Matrix is:\")\n",
        "print(d)\n",
        "print()\n",
        "print()\n",
        "\n",
        "num_of_candidates = len(d)\n",
        "candidate_list = string.ascii_uppercase\n",
        "candidate_list = candidate_list[:num_of_candidates]\n",
        "pair_winner = {}\n",
        "pairs = []\n",
        "for candidate in candidate_list:\n",
        "    for candidate2 in candidate_list:\n",
        "        if candidate != candidate2 and (candidate, candidate2) not in pairs:\n",
        "            if (candidate2, candidate) not in pairs:\n",
        "                pairs.append((candidate, candidate2))\n",
        "                \n",
        "\n",
        "for p in pairs:\n",
        "    votea, voteb = 0, 0\n",
        "    for j in d.columns:\n",
        "        for i in range(num_of_candidates - 1):\n",
        "            if d[j].iloc[i] == p[0] and p[1] in list(d.loc[i+1:, j]):\n",
        "                votea += int(j)\n",
        "            elif d[j].iloc[i] == p[1] and p[0] in list(d.loc[i+1:, j]):\n",
        "                voteb += int(j)\n",
        "    if votea > voteb:\n",
        "        pair_winner[p] = [p[0], (votea, voteb)]\n",
        "    else:\n",
        "        pair_winner[p] = [p[1], (votea, voteb)]\n",
        "        \n",
        "\n",
        "wins = {}\n",
        "for pair, winner in pair_winner.items():\n",
        "    if winner[0] in wins.keys():\n",
        "        wins[winner[0]] += 1\n",
        "    else:\n",
        "        wins[winner[0]] = 1\n",
        "sorted_vals = sorted(wins.items(), key=lambda x: -x[1])\n",
        "\n",
        "winner = ''\n",
        "\n",
        "if sorted_vals[0][1] == (num_of_candidates - 1):\n",
        "    winner = sorted_vals[0][0]\n",
        "\n",
        "del candidate_list\n",
        "del num_of_candidates\n",
        "del d\n",
        "del wins\n",
        "\n",
        "print(\"The Pairwise Winner is:\")\n",
        "print(pair_winner)\n",
        "print()\n",
        "print()\n",
        "print(\"The Sorted Values are:\")\n",
        "print(sorted_vals)\n",
        "print()\n",
        "print()\n",
        "print(\"The winner is:\")\n",
        "print(winner)"
      ],
      "execution_count": 9,
      "outputs": [
        {
          "output_type": "stream",
          "text": [
            "Ranking Matrix is:\n",
            "  10  8  6  4  2\n",
            "0  A  C  A  B  C\n",
            "1  B  B  C  D  B\n",
            "2  C  A  D  A  D\n",
            "3  D  D  B  C  A\n",
            "\n",
            "\n",
            "The Pairwise Winner is:\n",
            "{('A', 'B'): ['A', (16, 14)], ('A', 'C'): ['A', (20, 10)], ('A', 'D'): ['A', (24, 6)], ('B', 'C'): ['C', (14, 16)], ('B', 'D'): ['B', (24, 6)], ('C', 'D'): ['C', (26, 4)]}\n",
            "\n",
            "\n",
            "The Sorted Values are:\n",
            "[('A', 3), ('C', 2), ('B', 1)]\n",
            "\n",
            "\n",
            "The winner is:\n",
            "A\n"
          ],
          "name": "stdout"
        }
      ]
    },
    {
      "cell_type": "code",
      "metadata": {
        "id": "L5Y84_rPRQJE"
      },
      "source": [
        ""
      ],
      "execution_count": 9,
      "outputs": []
    }
  ]
}