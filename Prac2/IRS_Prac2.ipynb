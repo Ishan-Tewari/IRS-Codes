{
  "nbformat": 4,
  "nbformat_minor": 0,
  "metadata": {
    "colab": {
      "name": "IRS Prac2.ipynb",
      "provenance": [],
      "toc_visible": true
    },
    "kernelspec": {
      "name": "python3",
      "display_name": "Python 3"
    }
  },
  "cells": [
    {
      "cell_type": "code",
      "metadata": {
        "id": "nVEIH08LA2jr"
      },
      "source": [
        "import nltk\n",
        "from nltk import sent_tokenize\n",
        "from nltk import word_tokenize"
      ],
      "execution_count": 36,
      "outputs": []
    },
    {
      "cell_type": "code",
      "metadata": {
        "colab": {
          "base_uri": "https://localhost:8080/"
        },
        "id": "8YZeW4jTA563",
        "outputId": "9e818b9a-f884-4f28-e2d9-57869e07a662"
      },
      "source": [
        "with open('/content/doc1.txt','r',encoding='utf-16') as file:\n",
        "  text = file.read()\n",
        "  text = str(text)\n",
        "\n",
        "print(text)"
      ],
      "execution_count": 37,
      "outputs": [
        {
          "output_type": "stream",
          "text": [
            "Well! he huffed and he puffed. He puffed and he huffed. And he huffed, huffed, and he puffed, puffed; but he could not blow the house down. At last, he was so out of breath that he couldn't huff and he couldn't puff anymore. So he stopped to rest and thought a bit.\n",
            "But this was too much. The wolf danced about with rage and swore he would come down the chimney and eat up the little pig for his supper. But while he was climbing on to the roof the little pig made up a blazing fire and put on a big pot full of water to boil. Then, just as the wolf was coming down the chimney, the little piggy pulled off the lid, and plop! in fell the wolf into the scalding water.\n",
            "\n"
          ],
          "name": "stdout"
        }
      ]
    },
    {
      "cell_type": "markdown",
      "metadata": {
        "id": "2D_2MckbGpvE"
      },
      "source": [
        "## Text Preprocessing"
      ]
    },
    {
      "cell_type": "markdown",
      "metadata": {
        "id": "M3P0dzHTGkmv"
      },
      "source": [
        "**Removing punctuations**"
      ]
    },
    {
      "cell_type": "code",
      "metadata": {
        "colab": {
          "base_uri": "https://localhost:8080/",
          "height": 120
        },
        "id": "xkAbfZ2vF_2y",
        "outputId": "bf9f0470-2454-4d60-e3c4-7950023ebbe7"
      },
      "source": [
        "import string\n",
        "punc = string.punctuation\n",
        "for c in text:\n",
        "  if c in punc:\n",
        "    text = text.replace(c,\"\")\n",
        "\n",
        "text"
      ],
      "execution_count": 38,
      "outputs": [
        {
          "output_type": "execute_result",
          "data": {
            "application/vnd.google.colaboratory.intrinsic+json": {
              "type": "string"
            },
            "text/plain": [
              "'Well he huffed and he puffed He puffed and he huffed And he huffed huffed and he puffed puffed but he could not blow the house down At last he was so out of breath that he couldnt huff and he couldnt puff anymore So he stopped to rest and thought a bit\\nBut this was too much The wolf danced about with rage and swore he would come down the chimney and eat up the little pig for his supper But while he was climbing on to the roof the little pig made up a blazing fire and put on a big pot full of water to boil Then just as the wolf was coming down the chimney the little piggy pulled off the lid and plop in fell the wolf into the scalding water\\n'"
            ]
          },
          "metadata": {
            "tags": []
          },
          "execution_count": 38
        }
      ]
    },
    {
      "cell_type": "code",
      "metadata": {
        "colab": {
          "base_uri": "https://localhost:8080/"
        },
        "id": "jlWltKCwFcdv",
        "outputId": "10e274c0-7426-4c81-ca37-9c83fb60d81b"
      },
      "source": [
        "nltk.download('punkt')"
      ],
      "execution_count": 39,
      "outputs": [
        {
          "output_type": "stream",
          "text": [
            "[nltk_data] Downloading package punkt to /root/nltk_data...\n",
            "[nltk_data]   Package punkt is already up-to-date!\n"
          ],
          "name": "stdout"
        },
        {
          "output_type": "execute_result",
          "data": {
            "text/plain": [
              "True"
            ]
          },
          "metadata": {
            "tags": []
          },
          "execution_count": 39
        }
      ]
    },
    {
      "cell_type": "markdown",
      "metadata": {
        "id": "AYP27cG5GOfU"
      },
      "source": [
        "**Word Tokenization**\n",
        "\n"
      ]
    },
    {
      "cell_type": "code",
      "metadata": {
        "colab": {
          "base_uri": "https://localhost:8080/"
        },
        "id": "fWWI-1iSEtv4",
        "outputId": "8d763505-ff5b-4883-999c-ec6c24a62250"
      },
      "source": [
        "sentences = sent_tokenize(text)\n",
        "words = word_tokenize(text)\n",
        "words"
      ],
      "execution_count": 40,
      "outputs": [
        {
          "output_type": "execute_result",
          "data": {
            "text/plain": [
              "['Well',\n",
              " 'he',\n",
              " 'huffed',\n",
              " 'and',\n",
              " 'he',\n",
              " 'puffed',\n",
              " 'He',\n",
              " 'puffed',\n",
              " 'and',\n",
              " 'he',\n",
              " 'huffed',\n",
              " 'And',\n",
              " 'he',\n",
              " 'huffed',\n",
              " 'huffed',\n",
              " 'and',\n",
              " 'he',\n",
              " 'puffed',\n",
              " 'puffed',\n",
              " 'but',\n",
              " 'he',\n",
              " 'could',\n",
              " 'not',\n",
              " 'blow',\n",
              " 'the',\n",
              " 'house',\n",
              " 'down',\n",
              " 'At',\n",
              " 'last',\n",
              " 'he',\n",
              " 'was',\n",
              " 'so',\n",
              " 'out',\n",
              " 'of',\n",
              " 'breath',\n",
              " 'that',\n",
              " 'he',\n",
              " 'couldnt',\n",
              " 'huff',\n",
              " 'and',\n",
              " 'he',\n",
              " 'couldnt',\n",
              " 'puff',\n",
              " 'anymore',\n",
              " 'So',\n",
              " 'he',\n",
              " 'stopped',\n",
              " 'to',\n",
              " 'rest',\n",
              " 'and',\n",
              " 'thought',\n",
              " 'a',\n",
              " 'bit',\n",
              " 'But',\n",
              " 'this',\n",
              " 'was',\n",
              " 'too',\n",
              " 'much',\n",
              " 'The',\n",
              " 'wolf',\n",
              " 'danced',\n",
              " 'about',\n",
              " 'with',\n",
              " 'rage',\n",
              " 'and',\n",
              " 'swore',\n",
              " 'he',\n",
              " 'would',\n",
              " 'come',\n",
              " 'down',\n",
              " 'the',\n",
              " 'chimney',\n",
              " 'and',\n",
              " 'eat',\n",
              " 'up',\n",
              " 'the',\n",
              " 'little',\n",
              " 'pig',\n",
              " 'for',\n",
              " 'his',\n",
              " 'supper',\n",
              " 'But',\n",
              " 'while',\n",
              " 'he',\n",
              " 'was',\n",
              " 'climbing',\n",
              " 'on',\n",
              " 'to',\n",
              " 'the',\n",
              " 'roof',\n",
              " 'the',\n",
              " 'little',\n",
              " 'pig',\n",
              " 'made',\n",
              " 'up',\n",
              " 'a',\n",
              " 'blazing',\n",
              " 'fire',\n",
              " 'and',\n",
              " 'put',\n",
              " 'on',\n",
              " 'a',\n",
              " 'big',\n",
              " 'pot',\n",
              " 'full',\n",
              " 'of',\n",
              " 'water',\n",
              " 'to',\n",
              " 'boil',\n",
              " 'Then',\n",
              " 'just',\n",
              " 'as',\n",
              " 'the',\n",
              " 'wolf',\n",
              " 'was',\n",
              " 'coming',\n",
              " 'down',\n",
              " 'the',\n",
              " 'chimney',\n",
              " 'the',\n",
              " 'little',\n",
              " 'piggy',\n",
              " 'pulled',\n",
              " 'off',\n",
              " 'the',\n",
              " 'lid',\n",
              " 'and',\n",
              " 'plop',\n",
              " 'in',\n",
              " 'fell',\n",
              " 'the',\n",
              " 'wolf',\n",
              " 'into',\n",
              " 'the',\n",
              " 'scalding',\n",
              " 'water']"
            ]
          },
          "metadata": {
            "tags": []
          },
          "execution_count": 40
        }
      ]
    },
    {
      "cell_type": "markdown",
      "metadata": {
        "id": "H7h1LwHAGts2"
      },
      "source": [
        "**Stop Words Removal**"
      ]
    },
    {
      "cell_type": "code",
      "metadata": {
        "colab": {
          "base_uri": "https://localhost:8080/"
        },
        "id": "EE4vSdVWFaDD",
        "outputId": "311ac339-be00-48c1-fc71-d9b42cfdf31b"
      },
      "source": [
        "nltk.download('stopwords')\n",
        "from nltk.corpus import stopwords\n",
        "stopwords = stopwords.words('english')\n",
        "stopwords[0:10]"
      ],
      "execution_count": 41,
      "outputs": [
        {
          "output_type": "stream",
          "text": [
            "[nltk_data] Downloading package stopwords to /root/nltk_data...\n",
            "[nltk_data]   Package stopwords is already up-to-date!\n"
          ],
          "name": "stdout"
        },
        {
          "output_type": "execute_result",
          "data": {
            "text/plain": [
              "['i', 'me', 'my', 'myself', 'we', 'our', 'ours', 'ourselves', 'you', \"you're\"]"
            ]
          },
          "metadata": {
            "tags": []
          },
          "execution_count": 41
        }
      ]
    },
    {
      "cell_type": "code",
      "metadata": {
        "colab": {
          "base_uri": "https://localhost:8080/"
        },
        "id": "fNM5WspbHA8_",
        "outputId": "a7f3eb19-84c0-48f4-996f-42f413c9caf8"
      },
      "source": [
        "clean_words=[]\n",
        "for word in words:\n",
        "  if word not in stopwords:\n",
        "    clean_words.append(word)\n",
        "\n",
        "words = clean_words\n",
        "words"
      ],
      "execution_count": 42,
      "outputs": [
        {
          "output_type": "execute_result",
          "data": {
            "text/plain": [
              "['Well',\n",
              " 'huffed',\n",
              " 'puffed',\n",
              " 'He',\n",
              " 'puffed',\n",
              " 'huffed',\n",
              " 'And',\n",
              " 'huffed',\n",
              " 'huffed',\n",
              " 'puffed',\n",
              " 'puffed',\n",
              " 'could',\n",
              " 'blow',\n",
              " 'house',\n",
              " 'At',\n",
              " 'last',\n",
              " 'breath',\n",
              " 'couldnt',\n",
              " 'huff',\n",
              " 'couldnt',\n",
              " 'puff',\n",
              " 'anymore',\n",
              " 'So',\n",
              " 'stopped',\n",
              " 'rest',\n",
              " 'thought',\n",
              " 'bit',\n",
              " 'But',\n",
              " 'much',\n",
              " 'The',\n",
              " 'wolf',\n",
              " 'danced',\n",
              " 'rage',\n",
              " 'swore',\n",
              " 'would',\n",
              " 'come',\n",
              " 'chimney',\n",
              " 'eat',\n",
              " 'little',\n",
              " 'pig',\n",
              " 'supper',\n",
              " 'But',\n",
              " 'climbing',\n",
              " 'roof',\n",
              " 'little',\n",
              " 'pig',\n",
              " 'made',\n",
              " 'blazing',\n",
              " 'fire',\n",
              " 'put',\n",
              " 'big',\n",
              " 'pot',\n",
              " 'full',\n",
              " 'water',\n",
              " 'boil',\n",
              " 'Then',\n",
              " 'wolf',\n",
              " 'coming',\n",
              " 'chimney',\n",
              " 'little',\n",
              " 'piggy',\n",
              " 'pulled',\n",
              " 'lid',\n",
              " 'plop',\n",
              " 'fell',\n",
              " 'wolf',\n",
              " 'scalding',\n",
              " 'water']"
            ]
          },
          "metadata": {
            "tags": []
          },
          "execution_count": 42
        }
      ]
    },
    {
      "cell_type": "markdown",
      "metadata": {
        "id": "TzK_L9RdHp-F"
      },
      "source": [
        "**Stemming**"
      ]
    },
    {
      "cell_type": "code",
      "metadata": {
        "colab": {
          "base_uri": "https://localhost:8080/"
        },
        "id": "V_kiemoZHlcc",
        "outputId": "99c77f98-bb08-4199-99d1-7b01edeab24d"
      },
      "source": [
        "from nltk.stem import PorterStemmer\n",
        "porter = PorterStemmer()\n",
        "\n",
        "stemmed_words = []\n",
        "for word in words:\n",
        "  stemmed_words.append(porter.stem(word))\n",
        "\n",
        "words = stemmed_words\n",
        "words"
      ],
      "execution_count": 43,
      "outputs": [
        {
          "output_type": "execute_result",
          "data": {
            "text/plain": [
              "['well',\n",
              " 'huf',\n",
              " 'puf',\n",
              " 'He',\n",
              " 'puf',\n",
              " 'huf',\n",
              " 'and',\n",
              " 'huf',\n",
              " 'huf',\n",
              " 'puf',\n",
              " 'puf',\n",
              " 'could',\n",
              " 'blow',\n",
              " 'hous',\n",
              " 'At',\n",
              " 'last',\n",
              " 'breath',\n",
              " 'couldnt',\n",
              " 'huff',\n",
              " 'couldnt',\n",
              " 'puff',\n",
              " 'anymor',\n",
              " 'So',\n",
              " 'stop',\n",
              " 'rest',\n",
              " 'thought',\n",
              " 'bit',\n",
              " 'but',\n",
              " 'much',\n",
              " 'the',\n",
              " 'wolf',\n",
              " 'danc',\n",
              " 'rage',\n",
              " 'swore',\n",
              " 'would',\n",
              " 'come',\n",
              " 'chimney',\n",
              " 'eat',\n",
              " 'littl',\n",
              " 'pig',\n",
              " 'supper',\n",
              " 'but',\n",
              " 'climb',\n",
              " 'roof',\n",
              " 'littl',\n",
              " 'pig',\n",
              " 'made',\n",
              " 'blaze',\n",
              " 'fire',\n",
              " 'put',\n",
              " 'big',\n",
              " 'pot',\n",
              " 'full',\n",
              " 'water',\n",
              " 'boil',\n",
              " 'then',\n",
              " 'wolf',\n",
              " 'come',\n",
              " 'chimney',\n",
              " 'littl',\n",
              " 'piggi',\n",
              " 'pull',\n",
              " 'lid',\n",
              " 'plop',\n",
              " 'fell',\n",
              " 'wolf',\n",
              " 'scald',\n",
              " 'water']"
            ]
          },
          "metadata": {
            "tags": []
          },
          "execution_count": 43
        }
      ]
    },
    {
      "cell_type": "markdown",
      "metadata": {
        "id": "DeuPeVv-Id39"
      },
      "source": [
        "**Removing Duplicates**"
      ]
    },
    {
      "cell_type": "code",
      "metadata": {
        "colab": {
          "base_uri": "https://localhost:8080/"
        },
        "id": "LjUK_mcMIIGm",
        "outputId": "3e19743d-9e54-49b7-9951-20ea6f8f0bb5"
      },
      "source": [
        "words = list(set(words))\n",
        "words"
      ],
      "execution_count": 44,
      "outputs": [
        {
          "output_type": "execute_result",
          "data": {
            "text/plain": [
              "['pig',\n",
              " 'made',\n",
              " 'He',\n",
              " 'bit',\n",
              " 'piggi',\n",
              " 'littl',\n",
              " 'couldnt',\n",
              " 'huff',\n",
              " 'but',\n",
              " 'roof',\n",
              " 'blow',\n",
              " 'pull',\n",
              " 'puf',\n",
              " 'breath',\n",
              " 'blaze',\n",
              " 'danc',\n",
              " 'stop',\n",
              " 'thought',\n",
              " 'much',\n",
              " 'rest',\n",
              " 'eat',\n",
              " 'rage',\n",
              " 'swore',\n",
              " 'well',\n",
              " 'scald',\n",
              " 'wolf',\n",
              " 'water',\n",
              " 'chimney',\n",
              " 'plop',\n",
              " 'hous',\n",
              " 'full',\n",
              " 'lid',\n",
              " 'last',\n",
              " 'and',\n",
              " 'anymor',\n",
              " 'huf',\n",
              " 'big',\n",
              " 'At',\n",
              " 'the',\n",
              " 'would',\n",
              " 'supper',\n",
              " 'pot',\n",
              " 'climb',\n",
              " 'then',\n",
              " 'put',\n",
              " 'puff',\n",
              " 'could',\n",
              " 'boil',\n",
              " 'fire',\n",
              " 'come',\n",
              " 'fell',\n",
              " 'So']"
            ]
          },
          "metadata": {
            "tags": []
          },
          "execution_count": 44
        }
      ]
    },
    {
      "cell_type": "markdown",
      "metadata": {
        "id": "G0YS5VSyI81o"
      },
      "source": [
        "**Converting to Lowercase**"
      ]
    },
    {
      "cell_type": "code",
      "metadata": {
        "colab": {
          "base_uri": "https://localhost:8080/"
        },
        "id": "_xDkwAqnIa3R",
        "outputId": "b21c2a7d-e146-483f-969f-24ed73334165"
      },
      "source": [
        "lowercase_words = []\n",
        "for word in words:\n",
        "  lowercase_words.append(word.lower())\n",
        "\n",
        "words = lowercase_words\n",
        "words"
      ],
      "execution_count": 45,
      "outputs": [
        {
          "output_type": "execute_result",
          "data": {
            "text/plain": [
              "['pig',\n",
              " 'made',\n",
              " 'he',\n",
              " 'bit',\n",
              " 'piggi',\n",
              " 'littl',\n",
              " 'couldnt',\n",
              " 'huff',\n",
              " 'but',\n",
              " 'roof',\n",
              " 'blow',\n",
              " 'pull',\n",
              " 'puf',\n",
              " 'breath',\n",
              " 'blaze',\n",
              " 'danc',\n",
              " 'stop',\n",
              " 'thought',\n",
              " 'much',\n",
              " 'rest',\n",
              " 'eat',\n",
              " 'rage',\n",
              " 'swore',\n",
              " 'well',\n",
              " 'scald',\n",
              " 'wolf',\n",
              " 'water',\n",
              " 'chimney',\n",
              " 'plop',\n",
              " 'hous',\n",
              " 'full',\n",
              " 'lid',\n",
              " 'last',\n",
              " 'and',\n",
              " 'anymor',\n",
              " 'huf',\n",
              " 'big',\n",
              " 'at',\n",
              " 'the',\n",
              " 'would',\n",
              " 'supper',\n",
              " 'pot',\n",
              " 'climb',\n",
              " 'then',\n",
              " 'put',\n",
              " 'puff',\n",
              " 'could',\n",
              " 'boil',\n",
              " 'fire',\n",
              " 'come',\n",
              " 'fell',\n",
              " 'so']"
            ]
          },
          "metadata": {
            "tags": []
          },
          "execution_count": 45
        }
      ]
    },
    {
      "cell_type": "markdown",
      "metadata": {
        "id": "l4MqhaTWLUKQ"
      },
      "source": [
        "**Adding to vocabulary**"
      ]
    },
    {
      "cell_type": "code",
      "metadata": {
        "colab": {
          "base_uri": "https://localhost:8080/"
        },
        "id": "s3pD1fELLTu1",
        "outputId": "c688c9f1-3969-4204-b756-05bbc2966700"
      },
      "source": [
        "vocabulary = []\n",
        "vocabulary.extend(words)\n",
        "vocabulary"
      ],
      "execution_count": 46,
      "outputs": [
        {
          "output_type": "execute_result",
          "data": {
            "text/plain": [
              "['pig',\n",
              " 'made',\n",
              " 'he',\n",
              " 'bit',\n",
              " 'piggi',\n",
              " 'littl',\n",
              " 'couldnt',\n",
              " 'huff',\n",
              " 'but',\n",
              " 'roof',\n",
              " 'blow',\n",
              " 'pull',\n",
              " 'puf',\n",
              " 'breath',\n",
              " 'blaze',\n",
              " 'danc',\n",
              " 'stop',\n",
              " 'thought',\n",
              " 'much',\n",
              " 'rest',\n",
              " 'eat',\n",
              " 'rage',\n",
              " 'swore',\n",
              " 'well',\n",
              " 'scald',\n",
              " 'wolf',\n",
              " 'water',\n",
              " 'chimney',\n",
              " 'plop',\n",
              " 'hous',\n",
              " 'full',\n",
              " 'lid',\n",
              " 'last',\n",
              " 'and',\n",
              " 'anymor',\n",
              " 'huf',\n",
              " 'big',\n",
              " 'at',\n",
              " 'the',\n",
              " 'would',\n",
              " 'supper',\n",
              " 'pot',\n",
              " 'climb',\n",
              " 'then',\n",
              " 'put',\n",
              " 'puff',\n",
              " 'could',\n",
              " 'boil',\n",
              " 'fire',\n",
              " 'come',\n",
              " 'fell',\n",
              " 'so']"
            ]
          },
          "metadata": {
            "tags": []
          },
          "execution_count": 46
        }
      ]
    },
    {
      "cell_type": "markdown",
      "metadata": {
        "id": "lShijhOiQR3-"
      },
      "source": [
        "**Adding to processed docs**"
      ]
    },
    {
      "cell_type": "code",
      "metadata": {
        "colab": {
          "base_uri": "https://localhost:8080/",
          "height": 69
        },
        "id": "aOymXidAPZks",
        "outputId": "93dee854-3d9d-4ada-f387-713af1b76cb9"
      },
      "source": [
        "processed_text = ' '.join(map(str, words))\n",
        "processed_text"
      ],
      "execution_count": 47,
      "outputs": [
        {
          "output_type": "execute_result",
          "data": {
            "application/vnd.google.colaboratory.intrinsic+json": {
              "type": "string"
            },
            "text/plain": [
              "'pig made he bit piggi littl couldnt huff but roof blow pull puf breath blaze danc stop thought much rest eat rage swore well scald wolf water chimney plop hous full lid last and anymor huf big at the would supper pot climb then put puff could boil fire come fell so'"
            ]
          },
          "metadata": {
            "tags": []
          },
          "execution_count": 47
        }
      ]
    },
    {
      "cell_type": "code",
      "metadata": {
        "colab": {
          "base_uri": "https://localhost:8080/"
        },
        "id": "024I3mjfPo3w",
        "outputId": "b01c8b5f-1451-4975-cb84-7aadb6b105aa"
      },
      "source": [
        "processed_docs = []\n",
        "processed_docs.append(processed_text)\n",
        "processed_docs"
      ],
      "execution_count": 48,
      "outputs": [
        {
          "output_type": "execute_result",
          "data": {
            "text/plain": [
              "['pig made he bit piggi littl couldnt huff but roof blow pull puf breath blaze danc stop thought much rest eat rage swore well scald wolf water chimney plop hous full lid last and anymor huf big at the would supper pot climb then put puff could boil fire come fell so']"
            ]
          },
          "metadata": {
            "tags": []
          },
          "execution_count": 48
        }
      ]
    },
    {
      "cell_type": "markdown",
      "metadata": {
        "id": "6RtUmx5BJwu7"
      },
      "source": [
        "## Doing the same for other docs as well"
      ]
    },
    {
      "cell_type": "code",
      "metadata": {
        "colab": {
          "base_uri": "https://localhost:8080/"
        },
        "id": "caPrBsJeJIxS",
        "outputId": "1082c7e2-862f-49da-90f6-560037b249b6"
      },
      "source": [
        "docs = ['/content/doc2.txt','/content/doc3.txt','/content/doc4.txt','/content/doc5.txt']\n",
        "\n",
        "for doc in docs:\n",
        "\n",
        "  #scanning docs\n",
        "  print(\"\\t\\t\\t\\t\\t\\t\\t\\t\\t\" +doc)\n",
        "  with open(doc,'r',encoding='utf-16') as file:\n",
        "    text = file.read()\n",
        "    text = str(text)\n",
        "    print(text)\n",
        "\n",
        "    # removing punctuations\n",
        "    import string\n",
        "    punc = string.punctuation\n",
        "    for c in text:\n",
        "      if c in punc:\n",
        "        text = text.replace(c,\"\")\n",
        "    print(text)\n",
        "\n",
        "    # tokenization\n",
        "    words = word_tokenize(text)\n",
        "    print(\"After tokenization: {}\".format(words))\n",
        "\n",
        "    # stop words removal\n",
        "    clean_words=[]\n",
        "    for word in words:\n",
        "      if word not in stopwords:\n",
        "        clean_words.append(word)\n",
        "\n",
        "    words = clean_words\n",
        "    print(\"After stop words removal: {}\".format(words))\n",
        "\n",
        "    # stemming\n",
        "    stemmed_words = []\n",
        "    for word in words:\n",
        "      stemmed_words.append(porter.stem(word))\n",
        "\n",
        "    words = stemmed_words\n",
        "    print(\"After stemming: {}\".format(words))\n",
        "\n",
        "    # removing duplicates\n",
        "    words = list(set(words))\n",
        "    print(\"After removing duplicates: {}\".format(words)) \n",
        "\n",
        "    # converting to lowercase\n",
        "    lowercase_words = []\n",
        "    for word in words:\n",
        "      lowercase_words.append(word.lower())\n",
        "\n",
        "    words = lowercase_words\n",
        "    print(\"After converting to lowecase: {}\".format(words))\n",
        "\n",
        "    #adding to vocabulary\n",
        "    vocabulary.extend(words)\n",
        "\n",
        "    #adding to processed docs\n",
        "    processed_text = ' '.join(map(str, words))\n",
        "    processed_docs.append(processed_text)\n",
        "    print(\"\\n\\n\")"
      ],
      "execution_count": 49,
      "outputs": [
        {
          "output_type": "stream",
          "text": [
            "\t\t\t\t\t\t\t\t\t/content/doc2.txt\n",
            "In the sentence above, we can see that there are two \"can\" words, but both of them have different meanings. Here the first \"can\" word is used for question formation. The second \"can\" word at the end of the sentence is used to represent a container that holds food or liquid.\n",
            "\n",
            "Hence, from the examples above, we can see that language processing is not \"deterministic\" (the same language has the same interpretations), and something suitable to one person might not be suitable to another. Therefore, Natural Language Processing (NLP) has a non-deterministic approach. In other words, Natural Language Processing can be used to create a new intelligent system that can understand how humans understand and interpret language in different situations.\n",
            "\n",
            "In the sentence above we can see that there are two can words but both of them have different meanings Here the first can word is used for question formation The second can word at the end of the sentence is used to represent a container that holds food or liquid\n",
            "\n",
            "Hence from the examples above we can see that language processing is not deterministic the same language has the same interpretations and something suitable to one person might not be suitable to another Therefore Natural Language Processing NLP has a nondeterministic approach In other words Natural Language Processing can be used to create a new intelligent system that can understand how humans understand and interpret language in different situations\n",
            "\n",
            "After tokenization: ['In', 'the', 'sentence', 'above', 'we', 'can', 'see', 'that', 'there', 'are', 'two', 'can', 'words', 'but', 'both', 'of', 'them', 'have', 'different', 'meanings', 'Here', 'the', 'first', 'can', 'word', 'is', 'used', 'for', 'question', 'formation', 'The', 'second', 'can', 'word', 'at', 'the', 'end', 'of', 'the', 'sentence', 'is', 'used', 'to', 'represent', 'a', 'container', 'that', 'holds', 'food', 'or', 'liquid', 'Hence', 'from', 'the', 'examples', 'above', 'we', 'can', 'see', 'that', 'language', 'processing', 'is', 'not', 'deterministic', 'the', 'same', 'language', 'has', 'the', 'same', 'interpretations', 'and', 'something', 'suitable', 'to', 'one', 'person', 'might', 'not', 'be', 'suitable', 'to', 'another', 'Therefore', 'Natural', 'Language', 'Processing', 'NLP', 'has', 'a', 'nondeterministic', 'approach', 'In', 'other', 'words', 'Natural', 'Language', 'Processing', 'can', 'be', 'used', 'to', 'create', 'a', 'new', 'intelligent', 'system', 'that', 'can', 'understand', 'how', 'humans', 'understand', 'and', 'interpret', 'language', 'in', 'different', 'situations']\n",
            "After stop words removal: ['In', 'sentence', 'see', 'two', 'words', 'different', 'meanings', 'Here', 'first', 'word', 'used', 'question', 'formation', 'The', 'second', 'word', 'end', 'sentence', 'used', 'represent', 'container', 'holds', 'food', 'liquid', 'Hence', 'examples', 'see', 'language', 'processing', 'deterministic', 'language', 'interpretations', 'something', 'suitable', 'one', 'person', 'might', 'suitable', 'another', 'Therefore', 'Natural', 'Language', 'Processing', 'NLP', 'nondeterministic', 'approach', 'In', 'words', 'Natural', 'Language', 'Processing', 'used', 'create', 'new', 'intelligent', 'system', 'understand', 'humans', 'understand', 'interpret', 'language', 'different', 'situations']\n",
            "After stemming: ['In', 'sentenc', 'see', 'two', 'word', 'differ', 'mean', 'here', 'first', 'word', 'use', 'question', 'format', 'the', 'second', 'word', 'end', 'sentenc', 'use', 'repres', 'contain', 'hold', 'food', 'liquid', 'henc', 'exampl', 'see', 'languag', 'process', 'determinist', 'languag', 'interpret', 'someth', 'suitabl', 'one', 'person', 'might', 'suitabl', 'anoth', 'therefor', 'natur', 'languag', 'process', 'nlp', 'nondeterminist', 'approach', 'In', 'word', 'natur', 'languag', 'process', 'use', 'creat', 'new', 'intellig', 'system', 'understand', 'human', 'understand', 'interpret', 'languag', 'differ', 'situat']\n",
            "After removing duplicates: ['In', 'liquid', 'interpret', 'use', 'second', 'approach', 'intellig', 'might', 'here', 'one', 'nlp', 'person', 'system', 'nondeterminist', 'contain', 'natur', 'end', 'suitabl', 'see', 'determinist', 'anoth', 'sentenc', 'mean', 'two', 'languag', 'new', 'situat', 'understand', 'word', 'human', 'first', 'process', 'hold', 'the', 'format', 'food', 'creat', 'differ', 'question', 'someth', 'repres', 'exampl', 'henc', 'therefor']\n",
            "After converting to lowecase: ['in', 'liquid', 'interpret', 'use', 'second', 'approach', 'intellig', 'might', 'here', 'one', 'nlp', 'person', 'system', 'nondeterminist', 'contain', 'natur', 'end', 'suitabl', 'see', 'determinist', 'anoth', 'sentenc', 'mean', 'two', 'languag', 'new', 'situat', 'understand', 'word', 'human', 'first', 'process', 'hold', 'the', 'format', 'food', 'creat', 'differ', 'question', 'someth', 'repres', 'exampl', 'henc', 'therefor']\n",
            "\n",
            "\n",
            "\n",
            "\t\t\t\t\t\t\t\t\t/content/doc3.txt\n",
            "It uses common sense reasoning for processing tasks. For instance, the freezing temperature can lead to death, or hot coffee can burn people's skin, along with other common sense reasoning tasks. However, this process can take much time, and it requires manual effort.\n",
            "\n",
            "It uses large amounts of data and tries to derive conclusions from it. Statistical NLP uses machine learning algorithms to train NLP models. After successful training on large amounts of data, the trained model will have positive outcomes with deduction.\n",
            "\n",
            "It uses common sense reasoning for processing tasks For instance the freezing temperature can lead to death or hot coffee can burn peoples skin along with other common sense reasoning tasks However this process can take much time and it requires manual effort\n",
            "\n",
            "It uses large amounts of data and tries to derive conclusions from it Statistical NLP uses machine learning algorithms to train NLP models After successful training on large amounts of data the trained model will have positive outcomes with deduction\n",
            "\n",
            "After tokenization: ['It', 'uses', 'common', 'sense', 'reasoning', 'for', 'processing', 'tasks', 'For', 'instance', 'the', 'freezing', 'temperature', 'can', 'lead', 'to', 'death', 'or', 'hot', 'coffee', 'can', 'burn', 'peoples', 'skin', 'along', 'with', 'other', 'common', 'sense', 'reasoning', 'tasks', 'However', 'this', 'process', 'can', 'take', 'much', 'time', 'and', 'it', 'requires', 'manual', 'effort', 'It', 'uses', 'large', 'amounts', 'of', 'data', 'and', 'tries', 'to', 'derive', 'conclusions', 'from', 'it', 'Statistical', 'NLP', 'uses', 'machine', 'learning', 'algorithms', 'to', 'train', 'NLP', 'models', 'After', 'successful', 'training', 'on', 'large', 'amounts', 'of', 'data', 'the', 'trained', 'model', 'will', 'have', 'positive', 'outcomes', 'with', 'deduction']\n",
            "After stop words removal: ['It', 'uses', 'common', 'sense', 'reasoning', 'processing', 'tasks', 'For', 'instance', 'freezing', 'temperature', 'lead', 'death', 'hot', 'coffee', 'burn', 'peoples', 'skin', 'along', 'common', 'sense', 'reasoning', 'tasks', 'However', 'process', 'take', 'much', 'time', 'requires', 'manual', 'effort', 'It', 'uses', 'large', 'amounts', 'data', 'tries', 'derive', 'conclusions', 'Statistical', 'NLP', 'uses', 'machine', 'learning', 'algorithms', 'train', 'NLP', 'models', 'After', 'successful', 'training', 'large', 'amounts', 'data', 'trained', 'model', 'positive', 'outcomes', 'deduction']\n",
            "After stemming: ['It', 'use', 'common', 'sens', 'reason', 'process', 'task', 'for', 'instanc', 'freez', 'temperatur', 'lead', 'death', 'hot', 'coffe', 'burn', 'peopl', 'skin', 'along', 'common', 'sens', 'reason', 'task', 'howev', 'process', 'take', 'much', 'time', 'requir', 'manual', 'effort', 'It', 'use', 'larg', 'amount', 'data', 'tri', 'deriv', 'conclus', 'statist', 'nlp', 'use', 'machin', 'learn', 'algorithm', 'train', 'nlp', 'model', 'after', 'success', 'train', 'larg', 'amount', 'data', 'train', 'model', 'posit', 'outcom', 'deduct']\n",
            "After removing duplicates: ['instanc', 'conclus', 'It', 'take', 'use', 'common', 'train', 'nlp', 'data', 'skin', 'task', 'peopl', 'statist', 'reason', 'learn', 'along', 'coffe', 'lead', 'much', 'after', 'for', 'sens', 'algorithm', 'burn', 'deriv', 'time', 'outcom', 'temperatur', 'success', 'hot', 'model', 'process', 'amount', 'howev', 'machin', 'larg', 'tri', 'requir', 'freez', 'deduct', 'manual', 'death', 'effort', 'posit']\n",
            "After converting to lowecase: ['instanc', 'conclus', 'it', 'take', 'use', 'common', 'train', 'nlp', 'data', 'skin', 'task', 'peopl', 'statist', 'reason', 'learn', 'along', 'coffe', 'lead', 'much', 'after', 'for', 'sens', 'algorithm', 'burn', 'deriv', 'time', 'outcom', 'temperatur', 'success', 'hot', 'model', 'process', 'amount', 'howev', 'machin', 'larg', 'tri', 'requir', 'freez', 'deduct', 'manual', 'death', 'effort', 'posit']\n",
            "\n",
            "\n",
            "\n",
            "\t\t\t\t\t\t\t\t\t/content/doc4.txt\n",
            "Once upon a time there was an old mother pig who had three little pigs and not enough food to feed them. So when they were old enough, she sent them out into the world to seek their fortunes.\n",
            "\n",
            "The first little pig was very lazy. He didn't want to work at all and he built his house out of straw. The second little pig worked a little bit harder but he was somewhat lazy too and he built his house out of sticks. Then, they sang and danced and played together the rest of the day.\n",
            "\n",
            "Once upon a time there was an old mother pig who had three little pigs and not enough food to feed them So when they were old enough she sent them out into the world to seek their fortunes\n",
            "\n",
            "The first little pig was very lazy He didnt want to work at all and he built his house out of straw The second little pig worked a little bit harder but he was somewhat lazy too and he built his house out of sticks Then they sang and danced and played together the rest of the day\n",
            "\n",
            "After tokenization: ['Once', 'upon', 'a', 'time', 'there', 'was', 'an', 'old', 'mother', 'pig', 'who', 'had', 'three', 'little', 'pigs', 'and', 'not', 'enough', 'food', 'to', 'feed', 'them', 'So', 'when', 'they', 'were', 'old', 'enough', 'she', 'sent', 'them', 'out', 'into', 'the', 'world', 'to', 'seek', 'their', 'fortunes', 'The', 'first', 'little', 'pig', 'was', 'very', 'lazy', 'He', 'didnt', 'want', 'to', 'work', 'at', 'all', 'and', 'he', 'built', 'his', 'house', 'out', 'of', 'straw', 'The', 'second', 'little', 'pig', 'worked', 'a', 'little', 'bit', 'harder', 'but', 'he', 'was', 'somewhat', 'lazy', 'too', 'and', 'he', 'built', 'his', 'house', 'out', 'of', 'sticks', 'Then', 'they', 'sang', 'and', 'danced', 'and', 'played', 'together', 'the', 'rest', 'of', 'the', 'day']\n",
            "After stop words removal: ['Once', 'upon', 'time', 'old', 'mother', 'pig', 'three', 'little', 'pigs', 'enough', 'food', 'feed', 'So', 'old', 'enough', 'sent', 'world', 'seek', 'fortunes', 'The', 'first', 'little', 'pig', 'lazy', 'He', 'didnt', 'want', 'work', 'built', 'house', 'straw', 'The', 'second', 'little', 'pig', 'worked', 'little', 'bit', 'harder', 'somewhat', 'lazy', 'built', 'house', 'sticks', 'Then', 'sang', 'danced', 'played', 'together', 'rest', 'day']\n",
            "After stemming: ['onc', 'upon', 'time', 'old', 'mother', 'pig', 'three', 'littl', 'pig', 'enough', 'food', 'feed', 'So', 'old', 'enough', 'sent', 'world', 'seek', 'fortun', 'the', 'first', 'littl', 'pig', 'lazi', 'He', 'didnt', 'want', 'work', 'built', 'hous', 'straw', 'the', 'second', 'littl', 'pig', 'work', 'littl', 'bit', 'harder', 'somewhat', 'lazi', 'built', 'hous', 'stick', 'then', 'sang', 'danc', 'play', 'togeth', 'rest', 'day']\n",
            "After removing duplicates: ['pig', 'He', 'bit', 'littl', 'straw', 'sang', 'second', 'sent', 'three', 'somewhat', 'built', 'lazi', 'day', 'didnt', 'danc', 'togeth', 'feed', 'rest', 'upon', 'old', 'play', 'enough', 'time', 'hous', 'stick', 'world', 'fortun', 'seek', 'harder', 'first', 'work', 'food', 'the', 'onc', 'then', 'mother', 'want', 'So']\n",
            "After converting to lowecase: ['pig', 'he', 'bit', 'littl', 'straw', 'sang', 'second', 'sent', 'three', 'somewhat', 'built', 'lazi', 'day', 'didnt', 'danc', 'togeth', 'feed', 'rest', 'upon', 'old', 'play', 'enough', 'time', 'hous', 'stick', 'world', 'fortun', 'seek', 'harder', 'first', 'work', 'food', 'the', 'onc', 'then', 'mother', 'want', 'so']\n",
            "\n",
            "\n",
            "\n",
            "\t\t\t\t\t\t\t\t\t/content/doc5.txt\n",
            "So he huffed and he puffed and he blew the house down! The wolf was greedy and he tried to catch both pigs at once, but he was too greedy and got neither! His big jaws clamped down on nothing but air and the two little pigs scrambled away as fast as their little hooves would carry them.\n",
            "\n",
            "The wolf chased them down the lane and he almost caught them. But they made it to the brick house and slammed the door closed before the wolf could catch them. The three little pigs they were very frightened, they knew the wolf wanted to eat them. And that was very, very true. The wolf hadn't eaten all day and he had worked up a large appetite chasing the pigs around and now he could smell all three of them inside and he knew that the three little pigs would make a lovely feast.\n",
            "\n",
            "So he huffed and he puffed and he blew the house down The wolf was greedy and he tried to catch both pigs at once but he was too greedy and got neither His big jaws clamped down on nothing but air and the two little pigs scrambled away as fast as their little hooves would carry them\n",
            "\n",
            "The wolf chased them down the lane and he almost caught them But they made it to the brick house and slammed the door closed before the wolf could catch them The three little pigs they were very frightened they knew the wolf wanted to eat them And that was very very true The wolf hadnt eaten all day and he had worked up a large appetite chasing the pigs around and now he could smell all three of them inside and he knew that the three little pigs would make a lovely feast\n",
            "\n",
            "After tokenization: ['So', 'he', 'huffed', 'and', 'he', 'puffed', 'and', 'he', 'blew', 'the', 'house', 'down', 'The', 'wolf', 'was', 'greedy', 'and', 'he', 'tried', 'to', 'catch', 'both', 'pigs', 'at', 'once', 'but', 'he', 'was', 'too', 'greedy', 'and', 'got', 'neither', 'His', 'big', 'jaws', 'clamped', 'down', 'on', 'nothing', 'but', 'air', 'and', 'the', 'two', 'little', 'pigs', 'scrambled', 'away', 'as', 'fast', 'as', 'their', 'little', 'hooves', 'would', 'carry', 'them', 'The', 'wolf', 'chased', 'them', 'down', 'the', 'lane', 'and', 'he', 'almost', 'caught', 'them', 'But', 'they', 'made', 'it', 'to', 'the', 'brick', 'house', 'and', 'slammed', 'the', 'door', 'closed', 'before', 'the', 'wolf', 'could', 'catch', 'them', 'The', 'three', 'little', 'pigs', 'they', 'were', 'very', 'frightened', 'they', 'knew', 'the', 'wolf', 'wanted', 'to', 'eat', 'them', 'And', 'that', 'was', 'very', 'very', 'true', 'The', 'wolf', 'hadnt', 'eaten', 'all', 'day', 'and', 'he', 'had', 'worked', 'up', 'a', 'large', 'appetite', 'chasing', 'the', 'pigs', 'around', 'and', 'now', 'he', 'could', 'smell', 'all', 'three', 'of', 'them', 'inside', 'and', 'he', 'knew', 'that', 'the', 'three', 'little', 'pigs', 'would', 'make', 'a', 'lovely', 'feast']\n",
            "After stop words removal: ['So', 'huffed', 'puffed', 'blew', 'house', 'The', 'wolf', 'greedy', 'tried', 'catch', 'pigs', 'greedy', 'got', 'neither', 'His', 'big', 'jaws', 'clamped', 'nothing', 'air', 'two', 'little', 'pigs', 'scrambled', 'away', 'fast', 'little', 'hooves', 'would', 'carry', 'The', 'wolf', 'chased', 'lane', 'almost', 'caught', 'But', 'made', 'brick', 'house', 'slammed', 'door', 'closed', 'wolf', 'could', 'catch', 'The', 'three', 'little', 'pigs', 'frightened', 'knew', 'wolf', 'wanted', 'eat', 'And', 'true', 'The', 'wolf', 'hadnt', 'eaten', 'day', 'worked', 'large', 'appetite', 'chasing', 'pigs', 'around', 'could', 'smell', 'three', 'inside', 'knew', 'three', 'little', 'pigs', 'would', 'make', 'lovely', 'feast']\n",
            "After stemming: ['So', 'huf', 'puf', 'blew', 'hous', 'the', 'wolf', 'greedi', 'tri', 'catch', 'pig', 'greedi', 'got', 'neither', 'hi', 'big', 'jaw', 'clamp', 'noth', 'air', 'two', 'littl', 'pig', 'scrambl', 'away', 'fast', 'littl', 'hoov', 'would', 'carri', 'the', 'wolf', 'chase', 'lane', 'almost', 'caught', 'but', 'made', 'brick', 'hous', 'slam', 'door', 'close', 'wolf', 'could', 'catch', 'the', 'three', 'littl', 'pig', 'frighten', 'knew', 'wolf', 'want', 'eat', 'and', 'true', 'the', 'wolf', 'hadnt', 'eaten', 'day', 'work', 'larg', 'appetit', 'chase', 'pig', 'around', 'could', 'smell', 'three', 'insid', 'knew', 'three', 'littl', 'pig', 'would', 'make', 'love', 'feast']\n",
            "After removing duplicates: ['pig', 'catch', 'made', 'around', 'chase', 'love', 'littl', 'carri', 'hi', 'eaten', 'but', 'insid', 'caught', 'three', 'hadnt', 'slam', 'puf', 'got', 'day', 'make', 'brick', 'door', 'true', 'frighten', 'eat', 'blew', 'knew', 'almost', 'lane', 'wolf', 'neither', 'noth', 'air', 'hoov', 'feast', 'hous', 'greedi', 'close', 'and', 'two', 'smell', 'huf', 'away', 'big', 'clamp', 'fast', 'work', 'would', 'the', 'larg', 'tri', 'appetit', 'jaw', 'could', 'want', 'scrambl', 'So']\n",
            "After converting to lowecase: ['pig', 'catch', 'made', 'around', 'chase', 'love', 'littl', 'carri', 'hi', 'eaten', 'but', 'insid', 'caught', 'three', 'hadnt', 'slam', 'puf', 'got', 'day', 'make', 'brick', 'door', 'true', 'frighten', 'eat', 'blew', 'knew', 'almost', 'lane', 'wolf', 'neither', 'noth', 'air', 'hoov', 'feast', 'hous', 'greedi', 'close', 'and', 'two', 'smell', 'huf', 'away', 'big', 'clamp', 'fast', 'work', 'would', 'the', 'larg', 'tri', 'appetit', 'jaw', 'could', 'want', 'scrambl', 'so']\n",
            "\n",
            "\n",
            "\n"
          ],
          "name": "stdout"
        }
      ]
    },
    {
      "cell_type": "code",
      "metadata": {
        "colab": {
          "base_uri": "https://localhost:8080/"
        },
        "id": "G_As9JJhKTib",
        "outputId": "eb0ed280-2b38-49be-a7c2-74571c308d72"
      },
      "source": [
        "vocabulary = list(set(vocabulary))\n",
        "vocabulary[0:10]"
      ],
      "execution_count": 50,
      "outputs": [
        {
          "output_type": "execute_result",
          "data": {
            "text/plain": [
              "['bit',\n",
              " 'love',\n",
              " 'interpret',\n",
              " 'couldnt',\n",
              " 'insid',\n",
              " 'caught',\n",
              " 'pull',\n",
              " 'blow',\n",
              " 'somewhat',\n",
              " 'puf']"
            ]
          },
          "metadata": {
            "tags": []
          },
          "execution_count": 50
        }
      ]
    },
    {
      "cell_type": "markdown",
      "metadata": {
        "id": "ZSJU58plNEN8"
      },
      "source": [
        "## Creating Document-Term Matrix"
      ]
    },
    {
      "cell_type": "code",
      "metadata": {
        "colab": {
          "base_uri": "https://localhost:8080/"
        },
        "id": "6ZhPKwy3LssZ",
        "outputId": "9c9d862b-7b9b-4b89-86c0-7d8bfd4887eb"
      },
      "source": [
        "processed_docs"
      ],
      "execution_count": 51,
      "outputs": [
        {
          "output_type": "execute_result",
          "data": {
            "text/plain": [
              "['pig made he bit piggi littl couldnt huff but roof blow pull puf breath blaze danc stop thought much rest eat rage swore well scald wolf water chimney plop hous full lid last and anymor huf big at the would supper pot climb then put puff could boil fire come fell so',\n",
              " 'in liquid interpret use second approach intellig might here one nlp person system nondeterminist contain natur end suitabl see determinist anoth sentenc mean two languag new situat understand word human first process hold the format food creat differ question someth repres exampl henc therefor',\n",
              " 'instanc conclus it take use common train nlp data skin task peopl statist reason learn along coffe lead much after for sens algorithm burn deriv time outcom temperatur success hot model process amount howev machin larg tri requir freez deduct manual death effort posit',\n",
              " 'pig he bit littl straw sang second sent three somewhat built lazi day didnt danc togeth feed rest upon old play enough time hous stick world fortun seek harder first work food the onc then mother want so',\n",
              " 'pig catch made around chase love littl carri hi eaten but insid caught three hadnt slam puf got day make brick door true frighten eat blew knew almost lane wolf neither noth air hoov feast hous greedi close and two smell huf away big clamp fast work would the larg tri appetit jaw could want scrambl so']"
            ]
          },
          "metadata": {
            "tags": []
          },
          "execution_count": 51
        }
      ]
    },
    {
      "cell_type": "code",
      "metadata": {
        "id": "3K-MAMmWMExP"
      },
      "source": [
        "import pandas as pd\n",
        "from sklearn.feature_extraction.text import CountVectorizer"
      ],
      "execution_count": 52,
      "outputs": []
    },
    {
      "cell_type": "code",
      "metadata": {
        "colab": {
          "base_uri": "https://localhost:8080/"
        },
        "id": "mEVwJfBTQeMH",
        "outputId": "60d52d6d-125f-46d0-a704-0c0317294329"
      },
      "source": [
        "vec = CountVectorizer(vocabulary=vocabulary)\n",
        "X = vec.fit_transform(processed_docs)\n",
        "X.toarray()"
      ],
      "execution_count": 53,
      "outputs": [
        {
          "output_type": "execute_result",
          "data": {
            "text/plain": [
              "array([[1, 0, 0, 1, 0, 0, 1, 1, 0, 1, 0, 0, 0, 0, 0, 0, 0, 1, 0, 1, 0, 1,\n",
              "        0, 0, 0, 0, 1, 1, 0, 0, 0, 0, 1, 0, 0, 1, 1, 1, 1, 1, 0, 0, 0, 0,\n",
              "        1, 0, 0, 0, 1, 0, 0, 0, 0, 0, 0, 0, 0, 0, 0, 1, 0, 1, 1, 0, 1, 0,\n",
              "        0, 0, 0, 0, 0, 1, 1, 0, 0, 0, 0, 0, 1, 1, 0, 0, 0, 0, 0, 0, 0, 0,\n",
              "        0, 0, 0, 1, 0, 1, 0, 0, 0, 1, 1, 0, 0, 0, 0, 0, 0, 1, 0, 0, 0, 0,\n",
              "        0, 1, 1, 0, 0, 0, 0, 0, 0, 0, 1, 0, 0, 1, 1, 1, 1, 0, 0, 0, 0, 0,\n",
              "        0, 0, 0, 0, 0, 1, 0, 0, 0, 0, 0, 0, 1, 0, 0, 1, 0, 0, 0, 0, 0, 0,\n",
              "        0, 1, 1, 0, 0, 0, 0, 1, 0, 0, 0, 0, 0, 0, 1, 0, 0, 1, 1, 0, 0, 0,\n",
              "        0, 0, 0, 0, 1, 0, 0, 0, 1, 0, 0, 1, 1, 0, 0, 1, 0, 0],\n",
              "       [0, 0, 1, 0, 0, 0, 0, 0, 0, 0, 0, 1, 0, 0, 0, 0, 0, 0, 1, 0, 0, 0,\n",
              "        0, 0, 0, 0, 0, 0, 0, 1, 1, 0, 0, 0, 0, 0, 0, 0, 0, 0, 0, 0, 1, 0,\n",
              "        0, 0, 0, 0, 0, 0, 1, 0, 0, 1, 0, 0, 0, 0, 1, 0, 0, 0, 0, 1, 0, 1,\n",
              "        0, 0, 0, 0, 0, 0, 0, 1, 0, 0, 0, 0, 0, 0, 1, 0, 1, 1, 1, 1, 0, 1,\n",
              "        0, 1, 0, 0, 0, 0, 0, 0, 1, 0, 0, 0, 1, 0, 0, 1, 0, 0, 1, 0, 1, 0,\n",
              "        0, 0, 0, 1, 0, 0, 0, 1, 1, 0, 0, 0, 0, 0, 0, 0, 0, 0, 0, 0, 1, 0,\n",
              "        1, 0, 0, 0, 0, 0, 0, 1, 1, 0, 0, 0, 0, 0, 0, 0, 0, 0, 0, 0, 0, 1,\n",
              "        1, 0, 0, 1, 0, 1, 0, 0, 0, 0, 0, 0, 1, 0, 0, 0, 0, 0, 0, 0, 1, 0,\n",
              "        1, 1, 0, 1, 1, 1, 0, 0, 0, 0, 0, 0, 0, 0, 1, 0, 0, 1],\n",
              "       [0, 0, 0, 0, 0, 0, 0, 0, 0, 0, 0, 0, 0, 0, 1, 1, 0, 0, 0, 0, 1, 0,\n",
              "        0, 0, 1, 1, 0, 0, 0, 0, 0, 0, 0, 1, 0, 0, 0, 0, 0, 0, 0, 1, 0, 0,\n",
              "        0, 1, 0, 0, 0, 0, 0, 1, 0, 0, 1, 1, 0, 0, 0, 0, 0, 0, 0, 0, 0, 0,\n",
              "        0, 1, 1, 0, 0, 0, 0, 0, 0, 0, 0, 0, 0, 0, 0, 1, 0, 1, 0, 0, 1, 0,\n",
              "        1, 0, 0, 0, 1, 0, 1, 0, 0, 0, 0, 1, 1, 0, 0, 0, 1, 0, 0, 1, 1, 0,\n",
              "        1, 0, 0, 0, 1, 1, 1, 0, 0, 0, 1, 0, 0, 0, 0, 0, 0, 0, 0, 0, 0, 1,\n",
              "        0, 0, 1, 0, 0, 0, 1, 0, 0, 1, 1, 0, 0, 1, 0, 0, 1, 0, 1, 0, 0, 0,\n",
              "        0, 0, 0, 0, 0, 0, 1, 0, 0, 1, 1, 0, 0, 1, 0, 0, 1, 0, 0, 0, 0, 0,\n",
              "        0, 0, 0, 0, 0, 0, 0, 1, 0, 0, 0, 0, 0, 1, 0, 0, 0, 0],\n",
              "       [1, 0, 0, 0, 0, 0, 0, 0, 1, 0, 1, 0, 0, 0, 0, 0, 1, 0, 0, 0, 0, 0,\n",
              "        1, 0, 1, 0, 0, 0, 0, 0, 0, 0, 0, 0, 0, 0, 0, 0, 0, 0, 0, 0, 0, 0,\n",
              "        0, 0, 1, 0, 0, 1, 0, 0, 1, 0, 0, 0, 1, 0, 0, 0, 0, 1, 0, 0, 0, 0,\n",
              "        0, 0, 0, 0, 0, 0, 0, 0, 0, 0, 1, 1, 0, 0, 0, 0, 0, 0, 1, 0, 0, 0,\n",
              "        0, 0, 0, 0, 0, 0, 0, 0, 0, 0, 1, 0, 0, 0, 0, 0, 0, 0, 0, 0, 0, 1,\n",
              "        0, 0, 0, 0, 0, 0, 0, 0, 0, 0, 0, 1, 0, 0, 0, 0, 0, 1, 1, 0, 0, 0,\n",
              "        0, 1, 0, 1, 1, 0, 0, 0, 0, 0, 0, 1, 0, 0, 0, 1, 0, 0, 0, 1, 1, 1,\n",
              "        0, 0, 1, 0, 0, 0, 0, 1, 0, 0, 0, 0, 0, 0, 1, 1, 0, 1, 0, 0, 0, 0,\n",
              "        0, 1, 1, 0, 1, 0, 0, 0, 1, 1, 1, 0, 0, 0, 0, 0, 0, 0],\n",
              "       [0, 1, 0, 0, 1, 1, 0, 0, 0, 1, 0, 0, 1, 1, 0, 0, 0, 0, 0, 0, 0, 1,\n",
              "        0, 1, 0, 0, 0, 0, 1, 1, 0, 1, 1, 0, 1, 1, 0, 0, 0, 0, 1, 0, 0, 1,\n",
              "        1, 0, 0, 1, 0, 1, 0, 0, 0, 0, 0, 0, 0, 1, 0, 0, 1, 0, 1, 0, 0, 0,\n",
              "        1, 0, 0, 1, 1, 0, 0, 0, 1, 1, 0, 0, 1, 0, 0, 0, 0, 0, 0, 0, 0, 0,\n",
              "        1, 0, 1, 1, 0, 0, 0, 1, 0, 0, 1, 0, 0, 1, 1, 0, 0, 1, 0, 0, 0, 1,\n",
              "        0, 0, 0, 0, 0, 0, 0, 0, 0, 1, 0, 0, 1, 0, 0, 0, 0, 0, 0, 1, 0, 0,\n",
              "        0, 0, 0, 0, 0, 1, 0, 0, 0, 1, 0, 1, 0, 0, 1, 1, 0, 1, 0, 0, 0, 0,\n",
              "        0, 0, 1, 0, 1, 0, 0, 0, 1, 0, 0, 1, 0, 0, 0, 0, 0, 1, 0, 1, 0, 1,\n",
              "        0, 0, 1, 0, 1, 0, 1, 0, 0, 0, 0, 0, 0, 0, 0, 0, 1, 0]])"
            ]
          },
          "metadata": {
            "tags": []
          },
          "execution_count": 53
        }
      ]
    },
    {
      "cell_type": "code",
      "metadata": {
        "colab": {
          "base_uri": "https://localhost:8080/",
          "height": 253
        },
        "id": "MQdtCLvTQ5Gv",
        "outputId": "506b9aaf-51c8-40aa-b9c2-dd2322daf3b0"
      },
      "source": [
        "df = pd.DataFrame(X.toarray(),columns=vec.get_feature_names())\n",
        "df"
      ],
      "execution_count": 54,
      "outputs": [
        {
          "output_type": "execute_result",
          "data": {
            "text/html": [
              "<div>\n",
              "<style scoped>\n",
              "    .dataframe tbody tr th:only-of-type {\n",
              "        vertical-align: middle;\n",
              "    }\n",
              "\n",
              "    .dataframe tbody tr th {\n",
              "        vertical-align: top;\n",
              "    }\n",
              "\n",
              "    .dataframe thead th {\n",
              "        text-align: right;\n",
              "    }\n",
              "</style>\n",
              "<table border=\"1\" class=\"dataframe\">\n",
              "  <thead>\n",
              "    <tr style=\"text-align: right;\">\n",
              "      <th></th>\n",
              "      <th>bit</th>\n",
              "      <th>love</th>\n",
              "      <th>interpret</th>\n",
              "      <th>couldnt</th>\n",
              "      <th>insid</th>\n",
              "      <th>caught</th>\n",
              "      <th>pull</th>\n",
              "      <th>blow</th>\n",
              "      <th>somewhat</th>\n",
              "      <th>puf</th>\n",
              "      <th>lazi</th>\n",
              "      <th>system</th>\n",
              "      <th>got</th>\n",
              "      <th>make</th>\n",
              "      <th>peopl</th>\n",
              "      <th>learn</th>\n",
              "      <th>didnt</th>\n",
              "      <th>thought</th>\n",
              "      <th>see</th>\n",
              "      <th>scald</th>\n",
              "      <th>burn</th>\n",
              "      <th>wolf</th>\n",
              "      <th>enough</th>\n",
              "      <th>feast</th>\n",
              "      <th>time</th>\n",
              "      <th>outcom</th>\n",
              "      <th>lid</th>\n",
              "      <th>last</th>\n",
              "      <th>greedi</th>\n",
              "      <th>two</th>\n",
              "      <th>situat</th>\n",
              "      <th>away</th>\n",
              "      <th>big</th>\n",
              "      <th>model</th>\n",
              "      <th>clamp</th>\n",
              "      <th>would</th>\n",
              "      <th>supper</th>\n",
              "      <th>pot</th>\n",
              "      <th>climb</th>\n",
              "      <th>boil</th>\n",
              "      <th>...</th>\n",
              "      <th>approach</th>\n",
              "      <th>roof</th>\n",
              "      <th>so</th>\n",
              "      <th>here</th>\n",
              "      <th>hadnt</th>\n",
              "      <th>person</th>\n",
              "      <th>skin</th>\n",
              "      <th>danc</th>\n",
              "      <th>door</th>\n",
              "      <th>lead</th>\n",
              "      <th>after</th>\n",
              "      <th>blew</th>\n",
              "      <th>sentenc</th>\n",
              "      <th>for</th>\n",
              "      <th>he</th>\n",
              "      <th>upon</th>\n",
              "      <th>deriv</th>\n",
              "      <th>hous</th>\n",
              "      <th>full</th>\n",
              "      <th>close</th>\n",
              "      <th>new</th>\n",
              "      <th>smell</th>\n",
              "      <th>word</th>\n",
              "      <th>first</th>\n",
              "      <th>work</th>\n",
              "      <th>hold</th>\n",
              "      <th>the</th>\n",
              "      <th>format</th>\n",
              "      <th>fast</th>\n",
              "      <th>howev</th>\n",
              "      <th>then</th>\n",
              "      <th>onc</th>\n",
              "      <th>mother</th>\n",
              "      <th>put</th>\n",
              "      <th>puff</th>\n",
              "      <th>deduct</th>\n",
              "      <th>exampl</th>\n",
              "      <th>come</th>\n",
              "      <th>slam</th>\n",
              "      <th>therefor</th>\n",
              "    </tr>\n",
              "  </thead>\n",
              "  <tbody>\n",
              "    <tr>\n",
              "      <th>0</th>\n",
              "      <td>1</td>\n",
              "      <td>0</td>\n",
              "      <td>0</td>\n",
              "      <td>1</td>\n",
              "      <td>0</td>\n",
              "      <td>0</td>\n",
              "      <td>1</td>\n",
              "      <td>1</td>\n",
              "      <td>0</td>\n",
              "      <td>1</td>\n",
              "      <td>0</td>\n",
              "      <td>0</td>\n",
              "      <td>0</td>\n",
              "      <td>0</td>\n",
              "      <td>0</td>\n",
              "      <td>0</td>\n",
              "      <td>0</td>\n",
              "      <td>1</td>\n",
              "      <td>0</td>\n",
              "      <td>1</td>\n",
              "      <td>0</td>\n",
              "      <td>1</td>\n",
              "      <td>0</td>\n",
              "      <td>0</td>\n",
              "      <td>0</td>\n",
              "      <td>0</td>\n",
              "      <td>1</td>\n",
              "      <td>1</td>\n",
              "      <td>0</td>\n",
              "      <td>0</td>\n",
              "      <td>0</td>\n",
              "      <td>0</td>\n",
              "      <td>1</td>\n",
              "      <td>0</td>\n",
              "      <td>0</td>\n",
              "      <td>1</td>\n",
              "      <td>1</td>\n",
              "      <td>1</td>\n",
              "      <td>1</td>\n",
              "      <td>1</td>\n",
              "      <td>...</td>\n",
              "      <td>0</td>\n",
              "      <td>1</td>\n",
              "      <td>1</td>\n",
              "      <td>0</td>\n",
              "      <td>0</td>\n",
              "      <td>0</td>\n",
              "      <td>0</td>\n",
              "      <td>1</td>\n",
              "      <td>0</td>\n",
              "      <td>0</td>\n",
              "      <td>0</td>\n",
              "      <td>0</td>\n",
              "      <td>0</td>\n",
              "      <td>0</td>\n",
              "      <td>1</td>\n",
              "      <td>0</td>\n",
              "      <td>0</td>\n",
              "      <td>1</td>\n",
              "      <td>1</td>\n",
              "      <td>0</td>\n",
              "      <td>0</td>\n",
              "      <td>0</td>\n",
              "      <td>0</td>\n",
              "      <td>0</td>\n",
              "      <td>0</td>\n",
              "      <td>0</td>\n",
              "      <td>1</td>\n",
              "      <td>0</td>\n",
              "      <td>0</td>\n",
              "      <td>0</td>\n",
              "      <td>1</td>\n",
              "      <td>0</td>\n",
              "      <td>0</td>\n",
              "      <td>1</td>\n",
              "      <td>1</td>\n",
              "      <td>0</td>\n",
              "      <td>0</td>\n",
              "      <td>1</td>\n",
              "      <td>0</td>\n",
              "      <td>0</td>\n",
              "    </tr>\n",
              "    <tr>\n",
              "      <th>1</th>\n",
              "      <td>0</td>\n",
              "      <td>0</td>\n",
              "      <td>1</td>\n",
              "      <td>0</td>\n",
              "      <td>0</td>\n",
              "      <td>0</td>\n",
              "      <td>0</td>\n",
              "      <td>0</td>\n",
              "      <td>0</td>\n",
              "      <td>0</td>\n",
              "      <td>0</td>\n",
              "      <td>1</td>\n",
              "      <td>0</td>\n",
              "      <td>0</td>\n",
              "      <td>0</td>\n",
              "      <td>0</td>\n",
              "      <td>0</td>\n",
              "      <td>0</td>\n",
              "      <td>1</td>\n",
              "      <td>0</td>\n",
              "      <td>0</td>\n",
              "      <td>0</td>\n",
              "      <td>0</td>\n",
              "      <td>0</td>\n",
              "      <td>0</td>\n",
              "      <td>0</td>\n",
              "      <td>0</td>\n",
              "      <td>0</td>\n",
              "      <td>0</td>\n",
              "      <td>1</td>\n",
              "      <td>1</td>\n",
              "      <td>0</td>\n",
              "      <td>0</td>\n",
              "      <td>0</td>\n",
              "      <td>0</td>\n",
              "      <td>0</td>\n",
              "      <td>0</td>\n",
              "      <td>0</td>\n",
              "      <td>0</td>\n",
              "      <td>0</td>\n",
              "      <td>...</td>\n",
              "      <td>1</td>\n",
              "      <td>0</td>\n",
              "      <td>0</td>\n",
              "      <td>1</td>\n",
              "      <td>0</td>\n",
              "      <td>1</td>\n",
              "      <td>0</td>\n",
              "      <td>0</td>\n",
              "      <td>0</td>\n",
              "      <td>0</td>\n",
              "      <td>0</td>\n",
              "      <td>0</td>\n",
              "      <td>1</td>\n",
              "      <td>0</td>\n",
              "      <td>0</td>\n",
              "      <td>0</td>\n",
              "      <td>0</td>\n",
              "      <td>0</td>\n",
              "      <td>0</td>\n",
              "      <td>0</td>\n",
              "      <td>1</td>\n",
              "      <td>0</td>\n",
              "      <td>1</td>\n",
              "      <td>1</td>\n",
              "      <td>0</td>\n",
              "      <td>1</td>\n",
              "      <td>1</td>\n",
              "      <td>1</td>\n",
              "      <td>0</td>\n",
              "      <td>0</td>\n",
              "      <td>0</td>\n",
              "      <td>0</td>\n",
              "      <td>0</td>\n",
              "      <td>0</td>\n",
              "      <td>0</td>\n",
              "      <td>0</td>\n",
              "      <td>1</td>\n",
              "      <td>0</td>\n",
              "      <td>0</td>\n",
              "      <td>1</td>\n",
              "    </tr>\n",
              "    <tr>\n",
              "      <th>2</th>\n",
              "      <td>0</td>\n",
              "      <td>0</td>\n",
              "      <td>0</td>\n",
              "      <td>0</td>\n",
              "      <td>0</td>\n",
              "      <td>0</td>\n",
              "      <td>0</td>\n",
              "      <td>0</td>\n",
              "      <td>0</td>\n",
              "      <td>0</td>\n",
              "      <td>0</td>\n",
              "      <td>0</td>\n",
              "      <td>0</td>\n",
              "      <td>0</td>\n",
              "      <td>1</td>\n",
              "      <td>1</td>\n",
              "      <td>0</td>\n",
              "      <td>0</td>\n",
              "      <td>0</td>\n",
              "      <td>0</td>\n",
              "      <td>1</td>\n",
              "      <td>0</td>\n",
              "      <td>0</td>\n",
              "      <td>0</td>\n",
              "      <td>1</td>\n",
              "      <td>1</td>\n",
              "      <td>0</td>\n",
              "      <td>0</td>\n",
              "      <td>0</td>\n",
              "      <td>0</td>\n",
              "      <td>0</td>\n",
              "      <td>0</td>\n",
              "      <td>0</td>\n",
              "      <td>1</td>\n",
              "      <td>0</td>\n",
              "      <td>0</td>\n",
              "      <td>0</td>\n",
              "      <td>0</td>\n",
              "      <td>0</td>\n",
              "      <td>0</td>\n",
              "      <td>...</td>\n",
              "      <td>0</td>\n",
              "      <td>0</td>\n",
              "      <td>0</td>\n",
              "      <td>0</td>\n",
              "      <td>0</td>\n",
              "      <td>0</td>\n",
              "      <td>1</td>\n",
              "      <td>0</td>\n",
              "      <td>0</td>\n",
              "      <td>1</td>\n",
              "      <td>1</td>\n",
              "      <td>0</td>\n",
              "      <td>0</td>\n",
              "      <td>1</td>\n",
              "      <td>0</td>\n",
              "      <td>0</td>\n",
              "      <td>1</td>\n",
              "      <td>0</td>\n",
              "      <td>0</td>\n",
              "      <td>0</td>\n",
              "      <td>0</td>\n",
              "      <td>0</td>\n",
              "      <td>0</td>\n",
              "      <td>0</td>\n",
              "      <td>0</td>\n",
              "      <td>0</td>\n",
              "      <td>0</td>\n",
              "      <td>0</td>\n",
              "      <td>0</td>\n",
              "      <td>1</td>\n",
              "      <td>0</td>\n",
              "      <td>0</td>\n",
              "      <td>0</td>\n",
              "      <td>0</td>\n",
              "      <td>0</td>\n",
              "      <td>1</td>\n",
              "      <td>0</td>\n",
              "      <td>0</td>\n",
              "      <td>0</td>\n",
              "      <td>0</td>\n",
              "    </tr>\n",
              "    <tr>\n",
              "      <th>3</th>\n",
              "      <td>1</td>\n",
              "      <td>0</td>\n",
              "      <td>0</td>\n",
              "      <td>0</td>\n",
              "      <td>0</td>\n",
              "      <td>0</td>\n",
              "      <td>0</td>\n",
              "      <td>0</td>\n",
              "      <td>1</td>\n",
              "      <td>0</td>\n",
              "      <td>1</td>\n",
              "      <td>0</td>\n",
              "      <td>0</td>\n",
              "      <td>0</td>\n",
              "      <td>0</td>\n",
              "      <td>0</td>\n",
              "      <td>1</td>\n",
              "      <td>0</td>\n",
              "      <td>0</td>\n",
              "      <td>0</td>\n",
              "      <td>0</td>\n",
              "      <td>0</td>\n",
              "      <td>1</td>\n",
              "      <td>0</td>\n",
              "      <td>1</td>\n",
              "      <td>0</td>\n",
              "      <td>0</td>\n",
              "      <td>0</td>\n",
              "      <td>0</td>\n",
              "      <td>0</td>\n",
              "      <td>0</td>\n",
              "      <td>0</td>\n",
              "      <td>0</td>\n",
              "      <td>0</td>\n",
              "      <td>0</td>\n",
              "      <td>0</td>\n",
              "      <td>0</td>\n",
              "      <td>0</td>\n",
              "      <td>0</td>\n",
              "      <td>0</td>\n",
              "      <td>...</td>\n",
              "      <td>0</td>\n",
              "      <td>0</td>\n",
              "      <td>1</td>\n",
              "      <td>0</td>\n",
              "      <td>0</td>\n",
              "      <td>0</td>\n",
              "      <td>0</td>\n",
              "      <td>1</td>\n",
              "      <td>0</td>\n",
              "      <td>0</td>\n",
              "      <td>0</td>\n",
              "      <td>0</td>\n",
              "      <td>0</td>\n",
              "      <td>0</td>\n",
              "      <td>1</td>\n",
              "      <td>1</td>\n",
              "      <td>0</td>\n",
              "      <td>1</td>\n",
              "      <td>0</td>\n",
              "      <td>0</td>\n",
              "      <td>0</td>\n",
              "      <td>0</td>\n",
              "      <td>0</td>\n",
              "      <td>1</td>\n",
              "      <td>1</td>\n",
              "      <td>0</td>\n",
              "      <td>1</td>\n",
              "      <td>0</td>\n",
              "      <td>0</td>\n",
              "      <td>0</td>\n",
              "      <td>1</td>\n",
              "      <td>1</td>\n",
              "      <td>1</td>\n",
              "      <td>0</td>\n",
              "      <td>0</td>\n",
              "      <td>0</td>\n",
              "      <td>0</td>\n",
              "      <td>0</td>\n",
              "      <td>0</td>\n",
              "      <td>0</td>\n",
              "    </tr>\n",
              "    <tr>\n",
              "      <th>4</th>\n",
              "      <td>0</td>\n",
              "      <td>1</td>\n",
              "      <td>0</td>\n",
              "      <td>0</td>\n",
              "      <td>1</td>\n",
              "      <td>1</td>\n",
              "      <td>0</td>\n",
              "      <td>0</td>\n",
              "      <td>0</td>\n",
              "      <td>1</td>\n",
              "      <td>0</td>\n",
              "      <td>0</td>\n",
              "      <td>1</td>\n",
              "      <td>1</td>\n",
              "      <td>0</td>\n",
              "      <td>0</td>\n",
              "      <td>0</td>\n",
              "      <td>0</td>\n",
              "      <td>0</td>\n",
              "      <td>0</td>\n",
              "      <td>0</td>\n",
              "      <td>1</td>\n",
              "      <td>0</td>\n",
              "      <td>1</td>\n",
              "      <td>0</td>\n",
              "      <td>0</td>\n",
              "      <td>0</td>\n",
              "      <td>0</td>\n",
              "      <td>1</td>\n",
              "      <td>1</td>\n",
              "      <td>0</td>\n",
              "      <td>1</td>\n",
              "      <td>1</td>\n",
              "      <td>0</td>\n",
              "      <td>1</td>\n",
              "      <td>1</td>\n",
              "      <td>0</td>\n",
              "      <td>0</td>\n",
              "      <td>0</td>\n",
              "      <td>0</td>\n",
              "      <td>...</td>\n",
              "      <td>0</td>\n",
              "      <td>0</td>\n",
              "      <td>1</td>\n",
              "      <td>0</td>\n",
              "      <td>1</td>\n",
              "      <td>0</td>\n",
              "      <td>0</td>\n",
              "      <td>0</td>\n",
              "      <td>1</td>\n",
              "      <td>0</td>\n",
              "      <td>0</td>\n",
              "      <td>1</td>\n",
              "      <td>0</td>\n",
              "      <td>0</td>\n",
              "      <td>0</td>\n",
              "      <td>0</td>\n",
              "      <td>0</td>\n",
              "      <td>1</td>\n",
              "      <td>0</td>\n",
              "      <td>1</td>\n",
              "      <td>0</td>\n",
              "      <td>1</td>\n",
              "      <td>0</td>\n",
              "      <td>0</td>\n",
              "      <td>1</td>\n",
              "      <td>0</td>\n",
              "      <td>1</td>\n",
              "      <td>0</td>\n",
              "      <td>1</td>\n",
              "      <td>0</td>\n",
              "      <td>0</td>\n",
              "      <td>0</td>\n",
              "      <td>0</td>\n",
              "      <td>0</td>\n",
              "      <td>0</td>\n",
              "      <td>0</td>\n",
              "      <td>0</td>\n",
              "      <td>0</td>\n",
              "      <td>1</td>\n",
              "      <td>0</td>\n",
              "    </tr>\n",
              "  </tbody>\n",
              "</table>\n",
              "<p>5 rows × 194 columns</p>\n",
              "</div>"
            ],
            "text/plain": [
              "   bit  love  interpret  couldnt  insid  ...  deduct  exampl  come  slam  therefor\n",
              "0    1     0          0        1      0  ...       0       0     1     0         0\n",
              "1    0     0          1        0      0  ...       0       1     0     0         1\n",
              "2    0     0          0        0      0  ...       1       0     0     0         0\n",
              "3    1     0          0        0      0  ...       0       0     0     0         0\n",
              "4    0     1          0        0      1  ...       0       0     0     1         0\n",
              "\n",
              "[5 rows x 194 columns]"
            ]
          },
          "metadata": {
            "tags": []
          },
          "execution_count": 54
        }
      ]
    },
    {
      "cell_type": "markdown",
      "metadata": {
        "id": "1_Bw0bbqGqiN"
      },
      "source": [
        "# Part ii)"
      ]
    },
    {
      "cell_type": "code",
      "metadata": {
        "colab": {
          "base_uri": "https://localhost:8080/"
        },
        "id": "YYdIjqkRERE9",
        "outputId": "2747fc7b-19b7-4b1f-9a76-c600c171d77c"
      },
      "source": [
        "docs = ['/content/doc1.txt','/content/doc2.txt','/content/doc3.txt','/content/doc4.txt','/content/doc5.txt']\n",
        "\n",
        "processed_docs = []\n",
        "for doc in docs:\n",
        "\n",
        "  #scanning docs\n",
        "  print(\"\\t\\t\\t\\t\\t\\t\\t\\t\\t\" +doc)\n",
        "  with open(doc,'r',encoding='utf-16') as file:\n",
        "    text = file.read()\n",
        "    text = str(text)\n",
        "    print(text)\n",
        "\n",
        "    # removing punctuations\n",
        "    import string\n",
        "    punc = string.punctuation\n",
        "    for c in text:\n",
        "      if c in punc:\n",
        "        text = text.replace(c,\"\")\n",
        "    print(text)\n",
        "\n",
        "    # tokenization\n",
        "    words = word_tokenize(text)\n",
        "    print(\"After tokenization: {}\".format(words))\n",
        "\n",
        "    # stop words removal\n",
        "    clean_words=[]\n",
        "    for word in words:\n",
        "      if word not in stopwords:\n",
        "        clean_words.append(word)\n",
        "\n",
        "    words = clean_words\n",
        "    print(\"After stop words removal: {}\".format(words))\n",
        "\n",
        "    # stemming\n",
        "    stemmed_words = []\n",
        "    for word in words:\n",
        "      stemmed_words.append(porter.stem(word))\n",
        "\n",
        "    words = stemmed_words\n",
        "    print(\"After stemming: {}\".format(words))\n",
        "\n",
        "    # converting to lowercase\n",
        "    lowercase_words = []\n",
        "    for word in words:\n",
        "      lowercase_words.append(word.lower())\n",
        "\n",
        "    words = lowercase_words\n",
        "    print(\"After converting to lowecase: {}\".format(words))\n",
        "\n",
        "    #adding to processed docs\n",
        "    processed_text = ' '.join(map(str, words))\n",
        "    processed_docs.append(processed_text)\n",
        "    print(\"\\n\\n\")"
      ],
      "execution_count": 55,
      "outputs": [
        {
          "output_type": "stream",
          "text": [
            "\t\t\t\t\t\t\t\t\t/content/doc1.txt\n",
            "Well! he huffed and he puffed. He puffed and he huffed. And he huffed, huffed, and he puffed, puffed; but he could not blow the house down. At last, he was so out of breath that he couldn't huff and he couldn't puff anymore. So he stopped to rest and thought a bit.\n",
            "But this was too much. The wolf danced about with rage and swore he would come down the chimney and eat up the little pig for his supper. But while he was climbing on to the roof the little pig made up a blazing fire and put on a big pot full of water to boil. Then, just as the wolf was coming down the chimney, the little piggy pulled off the lid, and plop! in fell the wolf into the scalding water.\n",
            "\n",
            "Well he huffed and he puffed He puffed and he huffed And he huffed huffed and he puffed puffed but he could not blow the house down At last he was so out of breath that he couldnt huff and he couldnt puff anymore So he stopped to rest and thought a bit\n",
            "But this was too much The wolf danced about with rage and swore he would come down the chimney and eat up the little pig for his supper But while he was climbing on to the roof the little pig made up a blazing fire and put on a big pot full of water to boil Then just as the wolf was coming down the chimney the little piggy pulled off the lid and plop in fell the wolf into the scalding water\n",
            "\n",
            "After tokenization: ['Well', 'he', 'huffed', 'and', 'he', 'puffed', 'He', 'puffed', 'and', 'he', 'huffed', 'And', 'he', 'huffed', 'huffed', 'and', 'he', 'puffed', 'puffed', 'but', 'he', 'could', 'not', 'blow', 'the', 'house', 'down', 'At', 'last', 'he', 'was', 'so', 'out', 'of', 'breath', 'that', 'he', 'couldnt', 'huff', 'and', 'he', 'couldnt', 'puff', 'anymore', 'So', 'he', 'stopped', 'to', 'rest', 'and', 'thought', 'a', 'bit', 'But', 'this', 'was', 'too', 'much', 'The', 'wolf', 'danced', 'about', 'with', 'rage', 'and', 'swore', 'he', 'would', 'come', 'down', 'the', 'chimney', 'and', 'eat', 'up', 'the', 'little', 'pig', 'for', 'his', 'supper', 'But', 'while', 'he', 'was', 'climbing', 'on', 'to', 'the', 'roof', 'the', 'little', 'pig', 'made', 'up', 'a', 'blazing', 'fire', 'and', 'put', 'on', 'a', 'big', 'pot', 'full', 'of', 'water', 'to', 'boil', 'Then', 'just', 'as', 'the', 'wolf', 'was', 'coming', 'down', 'the', 'chimney', 'the', 'little', 'piggy', 'pulled', 'off', 'the', 'lid', 'and', 'plop', 'in', 'fell', 'the', 'wolf', 'into', 'the', 'scalding', 'water']\n",
            "After stop words removal: ['Well', 'huffed', 'puffed', 'He', 'puffed', 'huffed', 'And', 'huffed', 'huffed', 'puffed', 'puffed', 'could', 'blow', 'house', 'At', 'last', 'breath', 'couldnt', 'huff', 'couldnt', 'puff', 'anymore', 'So', 'stopped', 'rest', 'thought', 'bit', 'But', 'much', 'The', 'wolf', 'danced', 'rage', 'swore', 'would', 'come', 'chimney', 'eat', 'little', 'pig', 'supper', 'But', 'climbing', 'roof', 'little', 'pig', 'made', 'blazing', 'fire', 'put', 'big', 'pot', 'full', 'water', 'boil', 'Then', 'wolf', 'coming', 'chimney', 'little', 'piggy', 'pulled', 'lid', 'plop', 'fell', 'wolf', 'scalding', 'water']\n",
            "After stemming: ['well', 'huf', 'puf', 'He', 'puf', 'huf', 'and', 'huf', 'huf', 'puf', 'puf', 'could', 'blow', 'hous', 'At', 'last', 'breath', 'couldnt', 'huff', 'couldnt', 'puff', 'anymor', 'So', 'stop', 'rest', 'thought', 'bit', 'but', 'much', 'the', 'wolf', 'danc', 'rage', 'swore', 'would', 'come', 'chimney', 'eat', 'littl', 'pig', 'supper', 'but', 'climb', 'roof', 'littl', 'pig', 'made', 'blaze', 'fire', 'put', 'big', 'pot', 'full', 'water', 'boil', 'then', 'wolf', 'come', 'chimney', 'littl', 'piggi', 'pull', 'lid', 'plop', 'fell', 'wolf', 'scald', 'water']\n",
            "After converting to lowecase: ['well', 'huf', 'puf', 'he', 'puf', 'huf', 'and', 'huf', 'huf', 'puf', 'puf', 'could', 'blow', 'hous', 'at', 'last', 'breath', 'couldnt', 'huff', 'couldnt', 'puff', 'anymor', 'so', 'stop', 'rest', 'thought', 'bit', 'but', 'much', 'the', 'wolf', 'danc', 'rage', 'swore', 'would', 'come', 'chimney', 'eat', 'littl', 'pig', 'supper', 'but', 'climb', 'roof', 'littl', 'pig', 'made', 'blaze', 'fire', 'put', 'big', 'pot', 'full', 'water', 'boil', 'then', 'wolf', 'come', 'chimney', 'littl', 'piggi', 'pull', 'lid', 'plop', 'fell', 'wolf', 'scald', 'water']\n",
            "\n",
            "\n",
            "\n",
            "\t\t\t\t\t\t\t\t\t/content/doc2.txt\n",
            "In the sentence above, we can see that there are two \"can\" words, but both of them have different meanings. Here the first \"can\" word is used for question formation. The second \"can\" word at the end of the sentence is used to represent a container that holds food or liquid.\n",
            "\n",
            "Hence, from the examples above, we can see that language processing is not \"deterministic\" (the same language has the same interpretations), and something suitable to one person might not be suitable to another. Therefore, Natural Language Processing (NLP) has a non-deterministic approach. In other words, Natural Language Processing can be used to create a new intelligent system that can understand how humans understand and interpret language in different situations.\n",
            "\n",
            "In the sentence above we can see that there are two can words but both of them have different meanings Here the first can word is used for question formation The second can word at the end of the sentence is used to represent a container that holds food or liquid\n",
            "\n",
            "Hence from the examples above we can see that language processing is not deterministic the same language has the same interpretations and something suitable to one person might not be suitable to another Therefore Natural Language Processing NLP has a nondeterministic approach In other words Natural Language Processing can be used to create a new intelligent system that can understand how humans understand and interpret language in different situations\n",
            "\n",
            "After tokenization: ['In', 'the', 'sentence', 'above', 'we', 'can', 'see', 'that', 'there', 'are', 'two', 'can', 'words', 'but', 'both', 'of', 'them', 'have', 'different', 'meanings', 'Here', 'the', 'first', 'can', 'word', 'is', 'used', 'for', 'question', 'formation', 'The', 'second', 'can', 'word', 'at', 'the', 'end', 'of', 'the', 'sentence', 'is', 'used', 'to', 'represent', 'a', 'container', 'that', 'holds', 'food', 'or', 'liquid', 'Hence', 'from', 'the', 'examples', 'above', 'we', 'can', 'see', 'that', 'language', 'processing', 'is', 'not', 'deterministic', 'the', 'same', 'language', 'has', 'the', 'same', 'interpretations', 'and', 'something', 'suitable', 'to', 'one', 'person', 'might', 'not', 'be', 'suitable', 'to', 'another', 'Therefore', 'Natural', 'Language', 'Processing', 'NLP', 'has', 'a', 'nondeterministic', 'approach', 'In', 'other', 'words', 'Natural', 'Language', 'Processing', 'can', 'be', 'used', 'to', 'create', 'a', 'new', 'intelligent', 'system', 'that', 'can', 'understand', 'how', 'humans', 'understand', 'and', 'interpret', 'language', 'in', 'different', 'situations']\n",
            "After stop words removal: ['In', 'sentence', 'see', 'two', 'words', 'different', 'meanings', 'Here', 'first', 'word', 'used', 'question', 'formation', 'The', 'second', 'word', 'end', 'sentence', 'used', 'represent', 'container', 'holds', 'food', 'liquid', 'Hence', 'examples', 'see', 'language', 'processing', 'deterministic', 'language', 'interpretations', 'something', 'suitable', 'one', 'person', 'might', 'suitable', 'another', 'Therefore', 'Natural', 'Language', 'Processing', 'NLP', 'nondeterministic', 'approach', 'In', 'words', 'Natural', 'Language', 'Processing', 'used', 'create', 'new', 'intelligent', 'system', 'understand', 'humans', 'understand', 'interpret', 'language', 'different', 'situations']\n",
            "After stemming: ['In', 'sentenc', 'see', 'two', 'word', 'differ', 'mean', 'here', 'first', 'word', 'use', 'question', 'format', 'the', 'second', 'word', 'end', 'sentenc', 'use', 'repres', 'contain', 'hold', 'food', 'liquid', 'henc', 'exampl', 'see', 'languag', 'process', 'determinist', 'languag', 'interpret', 'someth', 'suitabl', 'one', 'person', 'might', 'suitabl', 'anoth', 'therefor', 'natur', 'languag', 'process', 'nlp', 'nondeterminist', 'approach', 'In', 'word', 'natur', 'languag', 'process', 'use', 'creat', 'new', 'intellig', 'system', 'understand', 'human', 'understand', 'interpret', 'languag', 'differ', 'situat']\n",
            "After converting to lowecase: ['in', 'sentenc', 'see', 'two', 'word', 'differ', 'mean', 'here', 'first', 'word', 'use', 'question', 'format', 'the', 'second', 'word', 'end', 'sentenc', 'use', 'repres', 'contain', 'hold', 'food', 'liquid', 'henc', 'exampl', 'see', 'languag', 'process', 'determinist', 'languag', 'interpret', 'someth', 'suitabl', 'one', 'person', 'might', 'suitabl', 'anoth', 'therefor', 'natur', 'languag', 'process', 'nlp', 'nondeterminist', 'approach', 'in', 'word', 'natur', 'languag', 'process', 'use', 'creat', 'new', 'intellig', 'system', 'understand', 'human', 'understand', 'interpret', 'languag', 'differ', 'situat']\n",
            "\n",
            "\n",
            "\n",
            "\t\t\t\t\t\t\t\t\t/content/doc3.txt\n",
            "It uses common sense reasoning for processing tasks. For instance, the freezing temperature can lead to death, or hot coffee can burn people's skin, along with other common sense reasoning tasks. However, this process can take much time, and it requires manual effort.\n",
            "\n",
            "It uses large amounts of data and tries to derive conclusions from it. Statistical NLP uses machine learning algorithms to train NLP models. After successful training on large amounts of data, the trained model will have positive outcomes with deduction.\n",
            "\n",
            "It uses common sense reasoning for processing tasks For instance the freezing temperature can lead to death or hot coffee can burn peoples skin along with other common sense reasoning tasks However this process can take much time and it requires manual effort\n",
            "\n",
            "It uses large amounts of data and tries to derive conclusions from it Statistical NLP uses machine learning algorithms to train NLP models After successful training on large amounts of data the trained model will have positive outcomes with deduction\n",
            "\n",
            "After tokenization: ['It', 'uses', 'common', 'sense', 'reasoning', 'for', 'processing', 'tasks', 'For', 'instance', 'the', 'freezing', 'temperature', 'can', 'lead', 'to', 'death', 'or', 'hot', 'coffee', 'can', 'burn', 'peoples', 'skin', 'along', 'with', 'other', 'common', 'sense', 'reasoning', 'tasks', 'However', 'this', 'process', 'can', 'take', 'much', 'time', 'and', 'it', 'requires', 'manual', 'effort', 'It', 'uses', 'large', 'amounts', 'of', 'data', 'and', 'tries', 'to', 'derive', 'conclusions', 'from', 'it', 'Statistical', 'NLP', 'uses', 'machine', 'learning', 'algorithms', 'to', 'train', 'NLP', 'models', 'After', 'successful', 'training', 'on', 'large', 'amounts', 'of', 'data', 'the', 'trained', 'model', 'will', 'have', 'positive', 'outcomes', 'with', 'deduction']\n",
            "After stop words removal: ['It', 'uses', 'common', 'sense', 'reasoning', 'processing', 'tasks', 'For', 'instance', 'freezing', 'temperature', 'lead', 'death', 'hot', 'coffee', 'burn', 'peoples', 'skin', 'along', 'common', 'sense', 'reasoning', 'tasks', 'However', 'process', 'take', 'much', 'time', 'requires', 'manual', 'effort', 'It', 'uses', 'large', 'amounts', 'data', 'tries', 'derive', 'conclusions', 'Statistical', 'NLP', 'uses', 'machine', 'learning', 'algorithms', 'train', 'NLP', 'models', 'After', 'successful', 'training', 'large', 'amounts', 'data', 'trained', 'model', 'positive', 'outcomes', 'deduction']\n",
            "After stemming: ['It', 'use', 'common', 'sens', 'reason', 'process', 'task', 'for', 'instanc', 'freez', 'temperatur', 'lead', 'death', 'hot', 'coffe', 'burn', 'peopl', 'skin', 'along', 'common', 'sens', 'reason', 'task', 'howev', 'process', 'take', 'much', 'time', 'requir', 'manual', 'effort', 'It', 'use', 'larg', 'amount', 'data', 'tri', 'deriv', 'conclus', 'statist', 'nlp', 'use', 'machin', 'learn', 'algorithm', 'train', 'nlp', 'model', 'after', 'success', 'train', 'larg', 'amount', 'data', 'train', 'model', 'posit', 'outcom', 'deduct']\n",
            "After converting to lowecase: ['it', 'use', 'common', 'sens', 'reason', 'process', 'task', 'for', 'instanc', 'freez', 'temperatur', 'lead', 'death', 'hot', 'coffe', 'burn', 'peopl', 'skin', 'along', 'common', 'sens', 'reason', 'task', 'howev', 'process', 'take', 'much', 'time', 'requir', 'manual', 'effort', 'it', 'use', 'larg', 'amount', 'data', 'tri', 'deriv', 'conclus', 'statist', 'nlp', 'use', 'machin', 'learn', 'algorithm', 'train', 'nlp', 'model', 'after', 'success', 'train', 'larg', 'amount', 'data', 'train', 'model', 'posit', 'outcom', 'deduct']\n",
            "\n",
            "\n",
            "\n",
            "\t\t\t\t\t\t\t\t\t/content/doc4.txt\n",
            "Once upon a time there was an old mother pig who had three little pigs and not enough food to feed them. So when they were old enough, she sent them out into the world to seek their fortunes.\n",
            "\n",
            "The first little pig was very lazy. He didn't want to work at all and he built his house out of straw. The second little pig worked a little bit harder but he was somewhat lazy too and he built his house out of sticks. Then, they sang and danced and played together the rest of the day.\n",
            "\n",
            "Once upon a time there was an old mother pig who had three little pigs and not enough food to feed them So when they were old enough she sent them out into the world to seek their fortunes\n",
            "\n",
            "The first little pig was very lazy He didnt want to work at all and he built his house out of straw The second little pig worked a little bit harder but he was somewhat lazy too and he built his house out of sticks Then they sang and danced and played together the rest of the day\n",
            "\n",
            "After tokenization: ['Once', 'upon', 'a', 'time', 'there', 'was', 'an', 'old', 'mother', 'pig', 'who', 'had', 'three', 'little', 'pigs', 'and', 'not', 'enough', 'food', 'to', 'feed', 'them', 'So', 'when', 'they', 'were', 'old', 'enough', 'she', 'sent', 'them', 'out', 'into', 'the', 'world', 'to', 'seek', 'their', 'fortunes', 'The', 'first', 'little', 'pig', 'was', 'very', 'lazy', 'He', 'didnt', 'want', 'to', 'work', 'at', 'all', 'and', 'he', 'built', 'his', 'house', 'out', 'of', 'straw', 'The', 'second', 'little', 'pig', 'worked', 'a', 'little', 'bit', 'harder', 'but', 'he', 'was', 'somewhat', 'lazy', 'too', 'and', 'he', 'built', 'his', 'house', 'out', 'of', 'sticks', 'Then', 'they', 'sang', 'and', 'danced', 'and', 'played', 'together', 'the', 'rest', 'of', 'the', 'day']\n",
            "After stop words removal: ['Once', 'upon', 'time', 'old', 'mother', 'pig', 'three', 'little', 'pigs', 'enough', 'food', 'feed', 'So', 'old', 'enough', 'sent', 'world', 'seek', 'fortunes', 'The', 'first', 'little', 'pig', 'lazy', 'He', 'didnt', 'want', 'work', 'built', 'house', 'straw', 'The', 'second', 'little', 'pig', 'worked', 'little', 'bit', 'harder', 'somewhat', 'lazy', 'built', 'house', 'sticks', 'Then', 'sang', 'danced', 'played', 'together', 'rest', 'day']\n",
            "After stemming: ['onc', 'upon', 'time', 'old', 'mother', 'pig', 'three', 'littl', 'pig', 'enough', 'food', 'feed', 'So', 'old', 'enough', 'sent', 'world', 'seek', 'fortun', 'the', 'first', 'littl', 'pig', 'lazi', 'He', 'didnt', 'want', 'work', 'built', 'hous', 'straw', 'the', 'second', 'littl', 'pig', 'work', 'littl', 'bit', 'harder', 'somewhat', 'lazi', 'built', 'hous', 'stick', 'then', 'sang', 'danc', 'play', 'togeth', 'rest', 'day']\n",
            "After converting to lowecase: ['onc', 'upon', 'time', 'old', 'mother', 'pig', 'three', 'littl', 'pig', 'enough', 'food', 'feed', 'so', 'old', 'enough', 'sent', 'world', 'seek', 'fortun', 'the', 'first', 'littl', 'pig', 'lazi', 'he', 'didnt', 'want', 'work', 'built', 'hous', 'straw', 'the', 'second', 'littl', 'pig', 'work', 'littl', 'bit', 'harder', 'somewhat', 'lazi', 'built', 'hous', 'stick', 'then', 'sang', 'danc', 'play', 'togeth', 'rest', 'day']\n",
            "\n",
            "\n",
            "\n",
            "\t\t\t\t\t\t\t\t\t/content/doc5.txt\n",
            "So he huffed and he puffed and he blew the house down! The wolf was greedy and he tried to catch both pigs at once, but he was too greedy and got neither! His big jaws clamped down on nothing but air and the two little pigs scrambled away as fast as their little hooves would carry them.\n",
            "\n",
            "The wolf chased them down the lane and he almost caught them. But they made it to the brick house and slammed the door closed before the wolf could catch them. The three little pigs they were very frightened, they knew the wolf wanted to eat them. And that was very, very true. The wolf hadn't eaten all day and he had worked up a large appetite chasing the pigs around and now he could smell all three of them inside and he knew that the three little pigs would make a lovely feast.\n",
            "\n",
            "So he huffed and he puffed and he blew the house down The wolf was greedy and he tried to catch both pigs at once but he was too greedy and got neither His big jaws clamped down on nothing but air and the two little pigs scrambled away as fast as their little hooves would carry them\n",
            "\n",
            "The wolf chased them down the lane and he almost caught them But they made it to the brick house and slammed the door closed before the wolf could catch them The three little pigs they were very frightened they knew the wolf wanted to eat them And that was very very true The wolf hadnt eaten all day and he had worked up a large appetite chasing the pigs around and now he could smell all three of them inside and he knew that the three little pigs would make a lovely feast\n",
            "\n",
            "After tokenization: ['So', 'he', 'huffed', 'and', 'he', 'puffed', 'and', 'he', 'blew', 'the', 'house', 'down', 'The', 'wolf', 'was', 'greedy', 'and', 'he', 'tried', 'to', 'catch', 'both', 'pigs', 'at', 'once', 'but', 'he', 'was', 'too', 'greedy', 'and', 'got', 'neither', 'His', 'big', 'jaws', 'clamped', 'down', 'on', 'nothing', 'but', 'air', 'and', 'the', 'two', 'little', 'pigs', 'scrambled', 'away', 'as', 'fast', 'as', 'their', 'little', 'hooves', 'would', 'carry', 'them', 'The', 'wolf', 'chased', 'them', 'down', 'the', 'lane', 'and', 'he', 'almost', 'caught', 'them', 'But', 'they', 'made', 'it', 'to', 'the', 'brick', 'house', 'and', 'slammed', 'the', 'door', 'closed', 'before', 'the', 'wolf', 'could', 'catch', 'them', 'The', 'three', 'little', 'pigs', 'they', 'were', 'very', 'frightened', 'they', 'knew', 'the', 'wolf', 'wanted', 'to', 'eat', 'them', 'And', 'that', 'was', 'very', 'very', 'true', 'The', 'wolf', 'hadnt', 'eaten', 'all', 'day', 'and', 'he', 'had', 'worked', 'up', 'a', 'large', 'appetite', 'chasing', 'the', 'pigs', 'around', 'and', 'now', 'he', 'could', 'smell', 'all', 'three', 'of', 'them', 'inside', 'and', 'he', 'knew', 'that', 'the', 'three', 'little', 'pigs', 'would', 'make', 'a', 'lovely', 'feast']\n",
            "After stop words removal: ['So', 'huffed', 'puffed', 'blew', 'house', 'The', 'wolf', 'greedy', 'tried', 'catch', 'pigs', 'greedy', 'got', 'neither', 'His', 'big', 'jaws', 'clamped', 'nothing', 'air', 'two', 'little', 'pigs', 'scrambled', 'away', 'fast', 'little', 'hooves', 'would', 'carry', 'The', 'wolf', 'chased', 'lane', 'almost', 'caught', 'But', 'made', 'brick', 'house', 'slammed', 'door', 'closed', 'wolf', 'could', 'catch', 'The', 'three', 'little', 'pigs', 'frightened', 'knew', 'wolf', 'wanted', 'eat', 'And', 'true', 'The', 'wolf', 'hadnt', 'eaten', 'day', 'worked', 'large', 'appetite', 'chasing', 'pigs', 'around', 'could', 'smell', 'three', 'inside', 'knew', 'three', 'little', 'pigs', 'would', 'make', 'lovely', 'feast']\n",
            "After stemming: ['So', 'huf', 'puf', 'blew', 'hous', 'the', 'wolf', 'greedi', 'tri', 'catch', 'pig', 'greedi', 'got', 'neither', 'hi', 'big', 'jaw', 'clamp', 'noth', 'air', 'two', 'littl', 'pig', 'scrambl', 'away', 'fast', 'littl', 'hoov', 'would', 'carri', 'the', 'wolf', 'chase', 'lane', 'almost', 'caught', 'but', 'made', 'brick', 'hous', 'slam', 'door', 'close', 'wolf', 'could', 'catch', 'the', 'three', 'littl', 'pig', 'frighten', 'knew', 'wolf', 'want', 'eat', 'and', 'true', 'the', 'wolf', 'hadnt', 'eaten', 'day', 'work', 'larg', 'appetit', 'chase', 'pig', 'around', 'could', 'smell', 'three', 'insid', 'knew', 'three', 'littl', 'pig', 'would', 'make', 'love', 'feast']\n",
            "After converting to lowecase: ['so', 'huf', 'puf', 'blew', 'hous', 'the', 'wolf', 'greedi', 'tri', 'catch', 'pig', 'greedi', 'got', 'neither', 'hi', 'big', 'jaw', 'clamp', 'noth', 'air', 'two', 'littl', 'pig', 'scrambl', 'away', 'fast', 'littl', 'hoov', 'would', 'carri', 'the', 'wolf', 'chase', 'lane', 'almost', 'caught', 'but', 'made', 'brick', 'hous', 'slam', 'door', 'close', 'wolf', 'could', 'catch', 'the', 'three', 'littl', 'pig', 'frighten', 'knew', 'wolf', 'want', 'eat', 'and', 'true', 'the', 'wolf', 'hadnt', 'eaten', 'day', 'work', 'larg', 'appetit', 'chase', 'pig', 'around', 'could', 'smell', 'three', 'insid', 'knew', 'three', 'littl', 'pig', 'would', 'make', 'love', 'feast']\n",
            "\n",
            "\n",
            "\n"
          ],
          "name": "stdout"
        }
      ]
    },
    {
      "cell_type": "code",
      "metadata": {
        "colab": {
          "base_uri": "https://localhost:8080/"
        },
        "id": "S_K-owR3G1Ef",
        "outputId": "5703fd67-1dc2-4860-f269-dda8030f9a5e"
      },
      "source": [
        "processed_docs"
      ],
      "execution_count": 56,
      "outputs": [
        {
          "output_type": "execute_result",
          "data": {
            "text/plain": [
              "['well huf puf he puf huf and huf huf puf puf could blow hous at last breath couldnt huff couldnt puff anymor so stop rest thought bit but much the wolf danc rage swore would come chimney eat littl pig supper but climb roof littl pig made blaze fire put big pot full water boil then wolf come chimney littl piggi pull lid plop fell wolf scald water',\n",
              " 'in sentenc see two word differ mean here first word use question format the second word end sentenc use repres contain hold food liquid henc exampl see languag process determinist languag interpret someth suitabl one person might suitabl anoth therefor natur languag process nlp nondeterminist approach in word natur languag process use creat new intellig system understand human understand interpret languag differ situat',\n",
              " 'it use common sens reason process task for instanc freez temperatur lead death hot coffe burn peopl skin along common sens reason task howev process take much time requir manual effort it use larg amount data tri deriv conclus statist nlp use machin learn algorithm train nlp model after success train larg amount data train model posit outcom deduct',\n",
              " 'onc upon time old mother pig three littl pig enough food feed so old enough sent world seek fortun the first littl pig lazi he didnt want work built hous straw the second littl pig work littl bit harder somewhat lazi built hous stick then sang danc play togeth rest day',\n",
              " 'so huf puf blew hous the wolf greedi tri catch pig greedi got neither hi big jaw clamp noth air two littl pig scrambl away fast littl hoov would carri the wolf chase lane almost caught but made brick hous slam door close wolf could catch the three littl pig frighten knew wolf want eat and true the wolf hadnt eaten day work larg appetit chase pig around could smell three insid knew three littl pig would make love feast']"
            ]
          },
          "metadata": {
            "tags": []
          },
          "execution_count": 56
        }
      ]
    },
    {
      "cell_type": "code",
      "metadata": {
        "colab": {
          "base_uri": "https://localhost:8080/"
        },
        "id": "W2dX5D7mG1-e",
        "outputId": "29d07138-e592-4f60-a447-967558f2e70d"
      },
      "source": [
        "vec = CountVectorizer()\n",
        "X = vec.fit_transform(processed_docs)\n",
        "X.toarray()"
      ],
      "execution_count": 57,
      "outputs": [
        {
          "output_type": "execute_result",
          "data": {
            "text/plain": [
              "array([[0, 0, 0, 0, 0, 0, 1, 0, 1, 0, 0, 0, 1, 0, 1, 1, 1, 0, 1, 1, 1, 0,\n",
              "        0, 0, 2, 0, 0, 0, 0, 2, 0, 1, 0, 0, 2, 0, 0, 0, 1, 2, 0, 1, 0, 0,\n",
              "        0, 0, 0, 0, 0, 0, 0, 1, 0, 0, 0, 0, 0, 0, 0, 0, 1, 1, 0, 0, 0, 0,\n",
              "        0, 0, 0, 1, 0, 0, 0, 0, 1, 0, 0, 0, 0, 0, 0, 1, 0, 4, 1, 0, 0, 0,\n",
              "        0, 0, 0, 0, 0, 0, 0, 0, 0, 1, 0, 0, 0, 1, 0, 3, 0, 0, 1, 0, 0, 0,\n",
              "        0, 0, 0, 1, 0, 0, 0, 0, 0, 0, 0, 0, 0, 0, 0, 0, 2, 1, 0, 1, 0, 1,\n",
              "        0, 4, 1, 1, 1, 0, 1, 0, 0, 0, 1, 1, 0, 1, 0, 0, 0, 0, 0, 0, 0, 0,\n",
              "        0, 0, 0, 1, 0, 0, 0, 0, 1, 0, 0, 0, 1, 1, 0, 0, 0, 0, 1, 1, 0, 1,\n",
              "        0, 0, 0, 0, 0, 0, 0, 0, 0, 0, 0, 2, 1, 3, 0, 0, 0, 1],\n",
              "       [0, 0, 0, 0, 0, 0, 0, 1, 0, 0, 1, 0, 0, 0, 0, 0, 0, 0, 0, 0, 0, 0,\n",
              "        0, 0, 0, 0, 0, 0, 0, 0, 0, 0, 0, 0, 0, 0, 0, 1, 0, 0, 1, 0, 0, 0,\n",
              "        0, 0, 0, 1, 0, 2, 0, 0, 0, 0, 1, 0, 1, 0, 0, 0, 0, 0, 1, 1, 0, 1,\n",
              "        0, 0, 0, 0, 0, 0, 0, 0, 0, 1, 1, 0, 1, 0, 0, 0, 0, 0, 0, 1, 2, 0,\n",
              "        0, 1, 2, 0, 0, 0, 0, 5, 0, 0, 0, 0, 0, 0, 1, 0, 0, 0, 0, 0, 0, 1,\n",
              "        1, 0, 0, 0, 2, 0, 1, 1, 1, 0, 0, 0, 1, 0, 0, 1, 0, 0, 0, 0, 0, 0,\n",
              "        3, 0, 0, 0, 0, 1, 0, 0, 1, 0, 0, 0, 0, 0, 0, 1, 2, 0, 0, 0, 2, 1,\n",
              "        0, 0, 0, 0, 1, 0, 0, 0, 0, 0, 0, 2, 0, 0, 1, 0, 0, 0, 1, 0, 1, 0,\n",
              "        0, 0, 0, 0, 0, 0, 1, 2, 0, 3, 0, 0, 0, 0, 4, 0, 0, 0],\n",
              "       [1, 0, 1, 0, 1, 2, 0, 0, 0, 0, 0, 0, 0, 0, 0, 0, 0, 0, 0, 0, 0, 0,\n",
              "        0, 1, 0, 0, 0, 0, 0, 0, 0, 0, 0, 1, 0, 2, 1, 0, 0, 0, 0, 0, 2, 0,\n",
              "        1, 1, 1, 0, 0, 0, 0, 0, 0, 1, 0, 0, 0, 0, 0, 0, 0, 0, 0, 0, 1, 0,\n",
              "        0, 1, 0, 0, 0, 0, 0, 0, 0, 0, 0, 0, 0, 0, 1, 0, 1, 0, 0, 0, 0, 0,\n",
              "        1, 0, 0, 2, 0, 0, 0, 0, 2, 0, 0, 1, 1, 0, 0, 0, 0, 1, 0, 0, 1, 0,\n",
              "        0, 2, 0, 1, 0, 0, 0, 2, 0, 0, 0, 0, 0, 1, 1, 0, 0, 0, 0, 0, 1, 0,\n",
              "        2, 0, 0, 0, 0, 0, 0, 2, 0, 1, 0, 0, 0, 0, 0, 0, 0, 0, 2, 0, 0, 0,\n",
              "        1, 0, 0, 0, 0, 0, 1, 0, 0, 0, 1, 0, 0, 0, 0, 1, 2, 1, 0, 0, 0, 0,\n",
              "        0, 1, 0, 3, 1, 0, 0, 0, 0, 3, 0, 0, 0, 0, 0, 0, 0, 0],\n",
              "       [0, 0, 0, 0, 0, 0, 0, 0, 0, 0, 0, 0, 0, 0, 0, 1, 0, 0, 0, 0, 0, 0,\n",
              "        2, 0, 0, 0, 0, 0, 0, 0, 0, 0, 0, 0, 0, 0, 0, 0, 0, 0, 0, 1, 0, 1,\n",
              "        0, 0, 0, 0, 1, 0, 0, 0, 0, 0, 0, 2, 0, 0, 0, 1, 0, 0, 1, 1, 0, 0,\n",
              "        1, 0, 0, 0, 0, 0, 0, 1, 1, 0, 0, 0, 0, 0, 0, 2, 0, 0, 0, 0, 0, 0,\n",
              "        0, 0, 0, 0, 0, 0, 0, 0, 0, 0, 2, 0, 0, 0, 0, 4, 0, 0, 0, 0, 0, 0,\n",
              "        0, 0, 1, 0, 0, 0, 0, 0, 0, 0, 2, 1, 0, 0, 0, 0, 4, 0, 1, 0, 0, 0,\n",
              "        0, 0, 0, 0, 0, 0, 0, 0, 0, 0, 1, 0, 1, 0, 0, 1, 0, 1, 0, 1, 0, 0,\n",
              "        0, 0, 0, 1, 0, 1, 0, 1, 0, 1, 0, 0, 0, 0, 0, 0, 0, 0, 2, 1, 0, 0,\n",
              "        1, 1, 1, 0, 0, 0, 0, 0, 1, 0, 1, 0, 0, 0, 0, 2, 1, 0],\n",
              "       [0, 1, 0, 1, 0, 0, 1, 0, 0, 1, 0, 1, 0, 1, 1, 0, 0, 1, 0, 0, 0, 1,\n",
              "        0, 0, 1, 1, 2, 1, 2, 0, 1, 0, 1, 0, 0, 0, 0, 0, 2, 0, 0, 0, 0, 1,\n",
              "        0, 0, 0, 0, 0, 0, 1, 1, 1, 0, 0, 0, 0, 1, 1, 0, 0, 0, 0, 0, 0, 0,\n",
              "        0, 0, 1, 0, 1, 2, 1, 0, 0, 0, 0, 1, 0, 1, 0, 2, 0, 1, 0, 0, 0, 1,\n",
              "        0, 0, 0, 0, 1, 2, 1, 0, 1, 0, 0, 0, 0, 0, 0, 4, 1, 0, 1, 1, 0, 0,\n",
              "        0, 0, 0, 0, 0, 1, 0, 0, 0, 1, 0, 0, 0, 0, 0, 0, 5, 0, 0, 0, 0, 0,\n",
              "        0, 1, 0, 0, 0, 0, 0, 0, 0, 0, 0, 0, 0, 0, 1, 0, 0, 0, 0, 0, 0, 0,\n",
              "        0, 1, 1, 1, 0, 0, 0, 0, 0, 0, 0, 0, 0, 0, 0, 0, 0, 0, 4, 0, 0, 0,\n",
              "        3, 0, 0, 0, 1, 1, 1, 0, 0, 0, 1, 0, 0, 5, 0, 1, 0, 2]])"
            ]
          },
          "metadata": {
            "tags": []
          },
          "execution_count": 57
        }
      ]
    },
    {
      "cell_type": "markdown",
      "metadata": {
        "id": "cnGk2NiTMdrn"
      },
      "source": [
        "**Term Frequencies**"
      ]
    },
    {
      "cell_type": "code",
      "metadata": {
        "colab": {
          "base_uri": "https://localhost:8080/",
          "height": 253
        },
        "id": "uruuOSiBG6er",
        "outputId": "02691051-6033-4ff6-e114-6a67acc93367"
      },
      "source": [
        "df = pd.DataFrame(X.toarray(),columns=vec.get_feature_names())\n",
        "df"
      ],
      "execution_count": 58,
      "outputs": [
        {
          "output_type": "execute_result",
          "data": {
            "text/html": [
              "<div>\n",
              "<style scoped>\n",
              "    .dataframe tbody tr th:only-of-type {\n",
              "        vertical-align: middle;\n",
              "    }\n",
              "\n",
              "    .dataframe tbody tr th {\n",
              "        vertical-align: top;\n",
              "    }\n",
              "\n",
              "    .dataframe thead th {\n",
              "        text-align: right;\n",
              "    }\n",
              "</style>\n",
              "<table border=\"1\" class=\"dataframe\">\n",
              "  <thead>\n",
              "    <tr style=\"text-align: right;\">\n",
              "      <th></th>\n",
              "      <th>after</th>\n",
              "      <th>air</th>\n",
              "      <th>algorithm</th>\n",
              "      <th>almost</th>\n",
              "      <th>along</th>\n",
              "      <th>amount</th>\n",
              "      <th>and</th>\n",
              "      <th>anoth</th>\n",
              "      <th>anymor</th>\n",
              "      <th>appetit</th>\n",
              "      <th>approach</th>\n",
              "      <th>around</th>\n",
              "      <th>at</th>\n",
              "      <th>away</th>\n",
              "      <th>big</th>\n",
              "      <th>bit</th>\n",
              "      <th>blaze</th>\n",
              "      <th>blew</th>\n",
              "      <th>blow</th>\n",
              "      <th>boil</th>\n",
              "      <th>breath</th>\n",
              "      <th>brick</th>\n",
              "      <th>built</th>\n",
              "      <th>burn</th>\n",
              "      <th>but</th>\n",
              "      <th>carri</th>\n",
              "      <th>catch</th>\n",
              "      <th>caught</th>\n",
              "      <th>chase</th>\n",
              "      <th>chimney</th>\n",
              "      <th>clamp</th>\n",
              "      <th>climb</th>\n",
              "      <th>close</th>\n",
              "      <th>coffe</th>\n",
              "      <th>come</th>\n",
              "      <th>common</th>\n",
              "      <th>conclus</th>\n",
              "      <th>contain</th>\n",
              "      <th>could</th>\n",
              "      <th>couldnt</th>\n",
              "      <th>...</th>\n",
              "      <th>skin</th>\n",
              "      <th>slam</th>\n",
              "      <th>smell</th>\n",
              "      <th>so</th>\n",
              "      <th>someth</th>\n",
              "      <th>somewhat</th>\n",
              "      <th>statist</th>\n",
              "      <th>stick</th>\n",
              "      <th>stop</th>\n",
              "      <th>straw</th>\n",
              "      <th>success</th>\n",
              "      <th>suitabl</th>\n",
              "      <th>supper</th>\n",
              "      <th>swore</th>\n",
              "      <th>system</th>\n",
              "      <th>take</th>\n",
              "      <th>task</th>\n",
              "      <th>temperatur</th>\n",
              "      <th>the</th>\n",
              "      <th>then</th>\n",
              "      <th>therefor</th>\n",
              "      <th>thought</th>\n",
              "      <th>three</th>\n",
              "      <th>time</th>\n",
              "      <th>togeth</th>\n",
              "      <th>train</th>\n",
              "      <th>tri</th>\n",
              "      <th>true</th>\n",
              "      <th>two</th>\n",
              "      <th>understand</th>\n",
              "      <th>upon</th>\n",
              "      <th>use</th>\n",
              "      <th>want</th>\n",
              "      <th>water</th>\n",
              "      <th>well</th>\n",
              "      <th>wolf</th>\n",
              "      <th>word</th>\n",
              "      <th>work</th>\n",
              "      <th>world</th>\n",
              "      <th>would</th>\n",
              "    </tr>\n",
              "  </thead>\n",
              "  <tbody>\n",
              "    <tr>\n",
              "      <th>0</th>\n",
              "      <td>0</td>\n",
              "      <td>0</td>\n",
              "      <td>0</td>\n",
              "      <td>0</td>\n",
              "      <td>0</td>\n",
              "      <td>0</td>\n",
              "      <td>1</td>\n",
              "      <td>0</td>\n",
              "      <td>1</td>\n",
              "      <td>0</td>\n",
              "      <td>0</td>\n",
              "      <td>0</td>\n",
              "      <td>1</td>\n",
              "      <td>0</td>\n",
              "      <td>1</td>\n",
              "      <td>1</td>\n",
              "      <td>1</td>\n",
              "      <td>0</td>\n",
              "      <td>1</td>\n",
              "      <td>1</td>\n",
              "      <td>1</td>\n",
              "      <td>0</td>\n",
              "      <td>0</td>\n",
              "      <td>0</td>\n",
              "      <td>2</td>\n",
              "      <td>0</td>\n",
              "      <td>0</td>\n",
              "      <td>0</td>\n",
              "      <td>0</td>\n",
              "      <td>2</td>\n",
              "      <td>0</td>\n",
              "      <td>1</td>\n",
              "      <td>0</td>\n",
              "      <td>0</td>\n",
              "      <td>2</td>\n",
              "      <td>0</td>\n",
              "      <td>0</td>\n",
              "      <td>0</td>\n",
              "      <td>1</td>\n",
              "      <td>2</td>\n",
              "      <td>...</td>\n",
              "      <td>0</td>\n",
              "      <td>0</td>\n",
              "      <td>0</td>\n",
              "      <td>1</td>\n",
              "      <td>0</td>\n",
              "      <td>0</td>\n",
              "      <td>0</td>\n",
              "      <td>0</td>\n",
              "      <td>1</td>\n",
              "      <td>0</td>\n",
              "      <td>0</td>\n",
              "      <td>0</td>\n",
              "      <td>1</td>\n",
              "      <td>1</td>\n",
              "      <td>0</td>\n",
              "      <td>0</td>\n",
              "      <td>0</td>\n",
              "      <td>0</td>\n",
              "      <td>1</td>\n",
              "      <td>1</td>\n",
              "      <td>0</td>\n",
              "      <td>1</td>\n",
              "      <td>0</td>\n",
              "      <td>0</td>\n",
              "      <td>0</td>\n",
              "      <td>0</td>\n",
              "      <td>0</td>\n",
              "      <td>0</td>\n",
              "      <td>0</td>\n",
              "      <td>0</td>\n",
              "      <td>0</td>\n",
              "      <td>0</td>\n",
              "      <td>0</td>\n",
              "      <td>2</td>\n",
              "      <td>1</td>\n",
              "      <td>3</td>\n",
              "      <td>0</td>\n",
              "      <td>0</td>\n",
              "      <td>0</td>\n",
              "      <td>1</td>\n",
              "    </tr>\n",
              "    <tr>\n",
              "      <th>1</th>\n",
              "      <td>0</td>\n",
              "      <td>0</td>\n",
              "      <td>0</td>\n",
              "      <td>0</td>\n",
              "      <td>0</td>\n",
              "      <td>0</td>\n",
              "      <td>0</td>\n",
              "      <td>1</td>\n",
              "      <td>0</td>\n",
              "      <td>0</td>\n",
              "      <td>1</td>\n",
              "      <td>0</td>\n",
              "      <td>0</td>\n",
              "      <td>0</td>\n",
              "      <td>0</td>\n",
              "      <td>0</td>\n",
              "      <td>0</td>\n",
              "      <td>0</td>\n",
              "      <td>0</td>\n",
              "      <td>0</td>\n",
              "      <td>0</td>\n",
              "      <td>0</td>\n",
              "      <td>0</td>\n",
              "      <td>0</td>\n",
              "      <td>0</td>\n",
              "      <td>0</td>\n",
              "      <td>0</td>\n",
              "      <td>0</td>\n",
              "      <td>0</td>\n",
              "      <td>0</td>\n",
              "      <td>0</td>\n",
              "      <td>0</td>\n",
              "      <td>0</td>\n",
              "      <td>0</td>\n",
              "      <td>0</td>\n",
              "      <td>0</td>\n",
              "      <td>0</td>\n",
              "      <td>1</td>\n",
              "      <td>0</td>\n",
              "      <td>0</td>\n",
              "      <td>...</td>\n",
              "      <td>0</td>\n",
              "      <td>0</td>\n",
              "      <td>0</td>\n",
              "      <td>0</td>\n",
              "      <td>1</td>\n",
              "      <td>0</td>\n",
              "      <td>0</td>\n",
              "      <td>0</td>\n",
              "      <td>0</td>\n",
              "      <td>0</td>\n",
              "      <td>0</td>\n",
              "      <td>2</td>\n",
              "      <td>0</td>\n",
              "      <td>0</td>\n",
              "      <td>1</td>\n",
              "      <td>0</td>\n",
              "      <td>0</td>\n",
              "      <td>0</td>\n",
              "      <td>1</td>\n",
              "      <td>0</td>\n",
              "      <td>1</td>\n",
              "      <td>0</td>\n",
              "      <td>0</td>\n",
              "      <td>0</td>\n",
              "      <td>0</td>\n",
              "      <td>0</td>\n",
              "      <td>0</td>\n",
              "      <td>0</td>\n",
              "      <td>1</td>\n",
              "      <td>2</td>\n",
              "      <td>0</td>\n",
              "      <td>3</td>\n",
              "      <td>0</td>\n",
              "      <td>0</td>\n",
              "      <td>0</td>\n",
              "      <td>0</td>\n",
              "      <td>4</td>\n",
              "      <td>0</td>\n",
              "      <td>0</td>\n",
              "      <td>0</td>\n",
              "    </tr>\n",
              "    <tr>\n",
              "      <th>2</th>\n",
              "      <td>1</td>\n",
              "      <td>0</td>\n",
              "      <td>1</td>\n",
              "      <td>0</td>\n",
              "      <td>1</td>\n",
              "      <td>2</td>\n",
              "      <td>0</td>\n",
              "      <td>0</td>\n",
              "      <td>0</td>\n",
              "      <td>0</td>\n",
              "      <td>0</td>\n",
              "      <td>0</td>\n",
              "      <td>0</td>\n",
              "      <td>0</td>\n",
              "      <td>0</td>\n",
              "      <td>0</td>\n",
              "      <td>0</td>\n",
              "      <td>0</td>\n",
              "      <td>0</td>\n",
              "      <td>0</td>\n",
              "      <td>0</td>\n",
              "      <td>0</td>\n",
              "      <td>0</td>\n",
              "      <td>1</td>\n",
              "      <td>0</td>\n",
              "      <td>0</td>\n",
              "      <td>0</td>\n",
              "      <td>0</td>\n",
              "      <td>0</td>\n",
              "      <td>0</td>\n",
              "      <td>0</td>\n",
              "      <td>0</td>\n",
              "      <td>0</td>\n",
              "      <td>1</td>\n",
              "      <td>0</td>\n",
              "      <td>2</td>\n",
              "      <td>1</td>\n",
              "      <td>0</td>\n",
              "      <td>0</td>\n",
              "      <td>0</td>\n",
              "      <td>...</td>\n",
              "      <td>1</td>\n",
              "      <td>0</td>\n",
              "      <td>0</td>\n",
              "      <td>0</td>\n",
              "      <td>0</td>\n",
              "      <td>0</td>\n",
              "      <td>1</td>\n",
              "      <td>0</td>\n",
              "      <td>0</td>\n",
              "      <td>0</td>\n",
              "      <td>1</td>\n",
              "      <td>0</td>\n",
              "      <td>0</td>\n",
              "      <td>0</td>\n",
              "      <td>0</td>\n",
              "      <td>1</td>\n",
              "      <td>2</td>\n",
              "      <td>1</td>\n",
              "      <td>0</td>\n",
              "      <td>0</td>\n",
              "      <td>0</td>\n",
              "      <td>0</td>\n",
              "      <td>0</td>\n",
              "      <td>1</td>\n",
              "      <td>0</td>\n",
              "      <td>3</td>\n",
              "      <td>1</td>\n",
              "      <td>0</td>\n",
              "      <td>0</td>\n",
              "      <td>0</td>\n",
              "      <td>0</td>\n",
              "      <td>3</td>\n",
              "      <td>0</td>\n",
              "      <td>0</td>\n",
              "      <td>0</td>\n",
              "      <td>0</td>\n",
              "      <td>0</td>\n",
              "      <td>0</td>\n",
              "      <td>0</td>\n",
              "      <td>0</td>\n",
              "    </tr>\n",
              "    <tr>\n",
              "      <th>3</th>\n",
              "      <td>0</td>\n",
              "      <td>0</td>\n",
              "      <td>0</td>\n",
              "      <td>0</td>\n",
              "      <td>0</td>\n",
              "      <td>0</td>\n",
              "      <td>0</td>\n",
              "      <td>0</td>\n",
              "      <td>0</td>\n",
              "      <td>0</td>\n",
              "      <td>0</td>\n",
              "      <td>0</td>\n",
              "      <td>0</td>\n",
              "      <td>0</td>\n",
              "      <td>0</td>\n",
              "      <td>1</td>\n",
              "      <td>0</td>\n",
              "      <td>0</td>\n",
              "      <td>0</td>\n",
              "      <td>0</td>\n",
              "      <td>0</td>\n",
              "      <td>0</td>\n",
              "      <td>2</td>\n",
              "      <td>0</td>\n",
              "      <td>0</td>\n",
              "      <td>0</td>\n",
              "      <td>0</td>\n",
              "      <td>0</td>\n",
              "      <td>0</td>\n",
              "      <td>0</td>\n",
              "      <td>0</td>\n",
              "      <td>0</td>\n",
              "      <td>0</td>\n",
              "      <td>0</td>\n",
              "      <td>0</td>\n",
              "      <td>0</td>\n",
              "      <td>0</td>\n",
              "      <td>0</td>\n",
              "      <td>0</td>\n",
              "      <td>0</td>\n",
              "      <td>...</td>\n",
              "      <td>0</td>\n",
              "      <td>0</td>\n",
              "      <td>0</td>\n",
              "      <td>1</td>\n",
              "      <td>0</td>\n",
              "      <td>1</td>\n",
              "      <td>0</td>\n",
              "      <td>1</td>\n",
              "      <td>0</td>\n",
              "      <td>1</td>\n",
              "      <td>0</td>\n",
              "      <td>0</td>\n",
              "      <td>0</td>\n",
              "      <td>0</td>\n",
              "      <td>0</td>\n",
              "      <td>0</td>\n",
              "      <td>0</td>\n",
              "      <td>0</td>\n",
              "      <td>2</td>\n",
              "      <td>1</td>\n",
              "      <td>0</td>\n",
              "      <td>0</td>\n",
              "      <td>1</td>\n",
              "      <td>1</td>\n",
              "      <td>1</td>\n",
              "      <td>0</td>\n",
              "      <td>0</td>\n",
              "      <td>0</td>\n",
              "      <td>0</td>\n",
              "      <td>0</td>\n",
              "      <td>1</td>\n",
              "      <td>0</td>\n",
              "      <td>1</td>\n",
              "      <td>0</td>\n",
              "      <td>0</td>\n",
              "      <td>0</td>\n",
              "      <td>0</td>\n",
              "      <td>2</td>\n",
              "      <td>1</td>\n",
              "      <td>0</td>\n",
              "    </tr>\n",
              "    <tr>\n",
              "      <th>4</th>\n",
              "      <td>0</td>\n",
              "      <td>1</td>\n",
              "      <td>0</td>\n",
              "      <td>1</td>\n",
              "      <td>0</td>\n",
              "      <td>0</td>\n",
              "      <td>1</td>\n",
              "      <td>0</td>\n",
              "      <td>0</td>\n",
              "      <td>1</td>\n",
              "      <td>0</td>\n",
              "      <td>1</td>\n",
              "      <td>0</td>\n",
              "      <td>1</td>\n",
              "      <td>1</td>\n",
              "      <td>0</td>\n",
              "      <td>0</td>\n",
              "      <td>1</td>\n",
              "      <td>0</td>\n",
              "      <td>0</td>\n",
              "      <td>0</td>\n",
              "      <td>1</td>\n",
              "      <td>0</td>\n",
              "      <td>0</td>\n",
              "      <td>1</td>\n",
              "      <td>1</td>\n",
              "      <td>2</td>\n",
              "      <td>1</td>\n",
              "      <td>2</td>\n",
              "      <td>0</td>\n",
              "      <td>1</td>\n",
              "      <td>0</td>\n",
              "      <td>1</td>\n",
              "      <td>0</td>\n",
              "      <td>0</td>\n",
              "      <td>0</td>\n",
              "      <td>0</td>\n",
              "      <td>0</td>\n",
              "      <td>2</td>\n",
              "      <td>0</td>\n",
              "      <td>...</td>\n",
              "      <td>0</td>\n",
              "      <td>1</td>\n",
              "      <td>1</td>\n",
              "      <td>1</td>\n",
              "      <td>0</td>\n",
              "      <td>0</td>\n",
              "      <td>0</td>\n",
              "      <td>0</td>\n",
              "      <td>0</td>\n",
              "      <td>0</td>\n",
              "      <td>0</td>\n",
              "      <td>0</td>\n",
              "      <td>0</td>\n",
              "      <td>0</td>\n",
              "      <td>0</td>\n",
              "      <td>0</td>\n",
              "      <td>0</td>\n",
              "      <td>0</td>\n",
              "      <td>4</td>\n",
              "      <td>0</td>\n",
              "      <td>0</td>\n",
              "      <td>0</td>\n",
              "      <td>3</td>\n",
              "      <td>0</td>\n",
              "      <td>0</td>\n",
              "      <td>0</td>\n",
              "      <td>1</td>\n",
              "      <td>1</td>\n",
              "      <td>1</td>\n",
              "      <td>0</td>\n",
              "      <td>0</td>\n",
              "      <td>0</td>\n",
              "      <td>1</td>\n",
              "      <td>0</td>\n",
              "      <td>0</td>\n",
              "      <td>5</td>\n",
              "      <td>0</td>\n",
              "      <td>1</td>\n",
              "      <td>0</td>\n",
              "      <td>2</td>\n",
              "    </tr>\n",
              "  </tbody>\n",
              "</table>\n",
              "<p>5 rows × 194 columns</p>\n",
              "</div>"
            ],
            "text/plain": [
              "   after  air  algorithm  almost  along  ...  wolf  word  work  world  would\n",
              "0      0    0          0       0      0  ...     3     0     0      0      1\n",
              "1      0    0          0       0      0  ...     0     4     0      0      0\n",
              "2      1    0          1       0      1  ...     0     0     0      0      0\n",
              "3      0    0          0       0      0  ...     0     0     2      1      0\n",
              "4      0    1          0       1      0  ...     5     0     1      0      2\n",
              "\n",
              "[5 rows x 194 columns]"
            ]
          },
          "metadata": {
            "tags": []
          },
          "execution_count": 58
        }
      ]
    },
    {
      "cell_type": "markdown",
      "metadata": {
        "id": "F5oIdOIkMiCW"
      },
      "source": [
        "**Word Frequencies**"
      ]
    },
    {
      "cell_type": "code",
      "metadata": {
        "colab": {
          "base_uri": "https://localhost:8080/"
        },
        "id": "qfeadpOBG9PK",
        "outputId": "4781ded8-4048-45e1-b3ff-f94678e11589"
      },
      "source": [
        "from nltk.probability import FreqDist\n",
        "for doc in processed_docs:\n",
        "  fdist = FreqDist(doc.split())\n",
        "fdist"
      ],
      "execution_count": 60,
      "outputs": [
        {
          "output_type": "execute_result",
          "data": {
            "text/plain": [
              "FreqDist({'air': 1,\n",
              "          'almost': 1,\n",
              "          'and': 1,\n",
              "          'appetit': 1,\n",
              "          'around': 1,\n",
              "          'away': 1,\n",
              "          'big': 1,\n",
              "          'blew': 1,\n",
              "          'brick': 1,\n",
              "          'but': 1,\n",
              "          'carri': 1,\n",
              "          'catch': 2,\n",
              "          'caught': 1,\n",
              "          'chase': 2,\n",
              "          'clamp': 1,\n",
              "          'close': 1,\n",
              "          'could': 2,\n",
              "          'day': 1,\n",
              "          'door': 1,\n",
              "          'eat': 1,\n",
              "          'eaten': 1,\n",
              "          'fast': 1,\n",
              "          'feast': 1,\n",
              "          'frighten': 1,\n",
              "          'got': 1,\n",
              "          'greedi': 2,\n",
              "          'hadnt': 1,\n",
              "          'hi': 1,\n",
              "          'hoov': 1,\n",
              "          'hous': 2,\n",
              "          'huf': 1,\n",
              "          'insid': 1,\n",
              "          'jaw': 1,\n",
              "          'knew': 2,\n",
              "          'lane': 1,\n",
              "          'larg': 1,\n",
              "          'littl': 4,\n",
              "          'love': 1,\n",
              "          'made': 1,\n",
              "          'make': 1,\n",
              "          'neither': 1,\n",
              "          'noth': 1,\n",
              "          'pig': 5,\n",
              "          'puf': 1,\n",
              "          'scrambl': 1,\n",
              "          'slam': 1,\n",
              "          'smell': 1,\n",
              "          'so': 1,\n",
              "          'the': 4,\n",
              "          'three': 3,\n",
              "          'tri': 1,\n",
              "          'true': 1,\n",
              "          'two': 1,\n",
              "          'want': 1,\n",
              "          'wolf': 5,\n",
              "          'work': 1,\n",
              "          'would': 2})"
            ]
          },
          "metadata": {
            "tags": []
          },
          "execution_count": 60
        }
      ]
    },
    {
      "cell_type": "code",
      "metadata": {
        "colab": {
          "base_uri": "https://localhost:8080/"
        },
        "id": "wCnQT3_TM8HQ",
        "outputId": "9cfc981f-7512-45ab-8b06-710b00507183"
      },
      "source": [
        "fdist.most_common(5)"
      ],
      "execution_count": 61,
      "outputs": [
        {
          "output_type": "execute_result",
          "data": {
            "text/plain": [
              "[('wolf', 5), ('pig', 5), ('the', 4), ('littl', 4), ('three', 3)]"
            ]
          },
          "metadata": {
            "tags": []
          },
          "execution_count": 61
        }
      ]
    },
    {
      "cell_type": "code",
      "metadata": {
        "colab": {
          "base_uri": "https://localhost:8080/",
          "height": 305
        },
        "id": "vjY9csbrNFNO",
        "outputId": "7296ad38-c4b2-4db8-e853-2e2801b2a0b1"
      },
      "source": [
        "fdist.plot(20)"
      ],
      "execution_count": 68,
      "outputs": [
        {
          "output_type": "display_data",
          "data": {
            "image/png": "[encoded data removed]",
            "text/plain": [
              "<Figure size 432x288 with 1 Axes>"
            ]
          },
          "metadata": {
            "tags": [],
            "needs_background": "light"
          }
        }
      ]
    },
    {
      "cell_type": "markdown",
      "metadata": {
        "id": "SgdNBXf-UyOO"
      },
      "source": [
        "**Histogram**"
      ]
    },
    {
      "cell_type": "code",
      "metadata": {
        "colab": {
          "base_uri": "https://localhost:8080/",
          "height": 287
        },
        "id": "fmFcoOACNXJb",
        "outputId": "94ab3ad0-af46-4431-d329-91b6c08a8f5f"
      },
      "source": [
        "import matplotlib.pyplot as plt\n",
        "import numpy as np\n",
        "counts = dict(fdist.most_common(20))\n",
        "\n",
        "labels, values = zip(*counts.items())\n",
        "\n",
        "# sorting values in descending order\n",
        "indSort = np.argsort(values)[::-1]\n",
        "\n",
        "# rearranging data\n",
        "labels = np.array(labels)[indSort]\n",
        "values = np.array(values)[indSort]\n",
        "\n",
        "indexes = np.arange(len(labels))\n",
        "\n",
        "plt.figure(figsize=(20,5))\n",
        "\n",
        "plt.bar(indexes, values)\n",
        "\n",
        "# add labels\n",
        "plt.xticks(indexes, labels)\n",
        "plt.show()"
      ],
      "execution_count": 104,
      "outputs": [
        {
          "output_type": "display_data",
          "data": {
            "image/png": "[encoded data removed]",
            "text/plain": [
              "<Figure size 1440x360 with 1 Axes>"
            ]
          },
          "metadata": {
            "tags": [],
            "needs_background": "light"
          }
        }
      ]
    },
    {
      "cell_type": "markdown",
      "metadata": {
        "id": "b_FK0DANRZJP"
      },
      "source": [
        "**Word Cloud**"
      ]
    },
    {
      "cell_type": "code",
      "metadata": {
        "colab": {
          "base_uri": "https://localhost:8080/",
          "height": 198
        },
        "id": "Xnzv0fg6P_CM",
        "outputId": "d9092312-f411-4415-fb1e-48c844a9e701"
      },
      "source": [
        "from wordcloud import WordCloud\n",
        "text = \" \".join(text for texts in processed_docs)\n",
        "\n",
        "wordcloud = WordCloud(background_color='white',max_words=100,height=500,width=1000).generate(processed_docs[0])\n",
        "\n",
        "# Display the generated image:\n",
        "plt.imshow(wordcloud, interpolation='bilinear')\n",
        "plt.axis(\"off\")\n",
        "plt.show()"
      ],
      "execution_count": 88,
      "outputs": [
        {
          "output_type": "display_data",
          "data": {
            "image/png": "[encoded data removed]",
            "text/plain": [
              "<Figure size 432x288 with 1 Axes>"
            ]
          },
          "metadata": {
            "tags": [],
            "needs_background": "light"
          }
        }
      ]
    },
    {
      "cell_type": "code",
      "metadata": {
        "id": "nlXOBGD8QbB1"
      },
      "source": [
        ""
      ],
      "execution_count": null,
      "outputs": []
    }
  ]
}